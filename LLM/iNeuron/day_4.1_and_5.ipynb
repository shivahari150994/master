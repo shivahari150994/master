{
 "cells": [
  {
   "cell_type": "code",
   "execution_count": 1,
   "metadata": {},
   "outputs": [],
   "source": [
    "from langchain.prompts import PromptTemplate\n",
    "prompt = PromptTemplate.from_template(\"Suggest me a good name for a company that makes {product}\")"
   ]
  },
  {
   "cell_type": "markdown",
   "metadata": {},
   "source": []
  },
  {
   "cell_type": "code",
   "execution_count": 2,
   "metadata": {},
   "outputs": [],
   "source": [
    "from langchain.chains import LLMChain"
   ]
  },
  {
   "cell_type": "code",
   "execution_count": 3,
   "metadata": {},
   "outputs": [],
   "source": [
    "import langchain\n",
    "import langchain_openai\n",
    "from langchain_openai import OpenAI\n",
    "\n",
    "mykey = \"sk-proj-QxMNKPIJYdCfsKs9LkG1T3BlbkFJrVvEHqNWxv2lEGgNHjLX\"\n",
    "client = OpenAI(openai_api_key = mykey)"
   ]
  },
  {
   "cell_type": "code",
   "execution_count": 4,
   "metadata": {},
   "outputs": [
    {
     "name": "stderr",
     "output_type": "stream",
     "text": [
      "c:\\Users\\venka\\Anaconda3\\envs\\openaidemo\\lib\\site-packages\\langchain_core\\_api\\deprecation.py:119: LangChainDeprecationWarning: The class `LLMChain` was deprecated in LangChain 0.1.17 and will be removed in 0.3.0. Use RunnableSequence, e.g., `prompt | llm` instead.\n",
      "  warn_deprecated(\n"
     ]
    }
   ],
   "source": [
    "chain = LLMChain(llm = client, prompt = prompt)"
   ]
  },
  {
   "cell_type": "code",
   "execution_count": 5,
   "metadata": {},
   "outputs": [
    {
     "name": "stderr",
     "output_type": "stream",
     "text": [
      "c:\\Users\\venka\\Anaconda3\\envs\\openaidemo\\lib\\site-packages\\langchain_core\\_api\\deprecation.py:119: LangChainDeprecationWarning: The method `Chain.run` was deprecated in langchain 0.1.0 and will be removed in 0.3.0. Use invoke instead.\n",
      "  warn_deprecated(\n"
     ]
    },
    {
     "data": {
      "text/plain": [
       "'1. Vintage Vines Co.\\n2. Grapevine Cellars\\n3. Harvest Hill Winery\\n4. Cork & Barrel Wines\\n5. Noble Nectar Co.\\n6. Redwood Ridge Winery\\n7. Heritage Hills Vineyards\\n8. Finest Ferments Wine Co.\\n9. Velvet Vines Winery\\n10. Tasteful Terroir Wines'"
      ]
     },
     "execution_count": 5,
     "metadata": {},
     "output_type": "execute_result"
    }
   ],
   "source": [
    "chain.run(\"Wine\").strip()"
   ]
  },
  {
   "cell_type": "markdown",
   "metadata": {},
   "source": [
    "## Example - 2"
   ]
  },
  {
   "cell_type": "code",
   "execution_count": 6,
   "metadata": {},
   "outputs": [],
   "source": [
    "prompt_template = PromptTemplate(\n",
    "    input_variables=['Cusines'], \n",
    "    template=\"I want to open a restaurent in {cusine} food, suggest a name for this\"\n",
    ")"
   ]
  },
  {
   "cell_type": "code",
   "execution_count": 7,
   "metadata": {},
   "outputs": [
    {
     "data": {
      "text/plain": [
       "PromptTemplate(input_variables=['cusine'], template='I want to open a restaurent in {cusine} food, suggest a name for this')"
      ]
     },
     "execution_count": 7,
     "metadata": {},
     "output_type": "execute_result"
    }
   ],
   "source": [
    "prompt_template"
   ]
  },
  {
   "cell_type": "code",
   "execution_count": 8,
   "metadata": {},
   "outputs": [],
   "source": [
    "chain = LLMChain(llm = client, prompt = prompt)"
   ]
  },
  {
   "cell_type": "code",
   "execution_count": 9,
   "metadata": {},
   "outputs": [
    {
     "data": {
      "text/plain": [
       "'traditional wear\\n\\n\"Heritage Threads\"'"
      ]
     },
     "execution_count": 9,
     "metadata": {},
     "output_type": "execute_result"
    }
   ],
   "source": [
    "chain.run(\"Indian\").strip()"
   ]
  },
  {
   "cell_type": "code",
   "execution_count": 10,
   "metadata": {},
   "outputs": [],
   "source": [
    "chain = LLMChain(llm = client, prompt = prompt_template, verbose=True)"
   ]
  },
  {
   "cell_type": "code",
   "execution_count": 11,
   "metadata": {},
   "outputs": [
    {
     "name": "stdout",
     "output_type": "stream",
     "text": [
      "\n",
      "\n",
      "\u001b[1m> Entering new LLMChain chain...\u001b[0m\n",
      "Prompt after formatting:\n",
      "\u001b[32;1m\u001b[1;3mI want to open a restaurent in Indian food, suggest a name for this\u001b[0m\n",
      "\n",
      "\u001b[1m> Finished chain.\u001b[0m\n"
     ]
    },
    {
     "data": {
      "text/plain": [
       "'1. \"Saffron Spice\"\\n2. \"Tandoori Tales\"\\n3. \"Curry Kingdom\"\\n4. \"Naan & Beyond\"\\n5. \"Masala Magic\"\\n6. \"Flavors of India\"\\n7. \"Punjabi Palace\"\\n8. \"Chai & Chaat\"\\n9. \"Biryani Bliss\"\\n10. \"Namaste India\"'"
      ]
     },
     "execution_count": 11,
     "metadata": {},
     "output_type": "execute_result"
    }
   ],
   "source": [
    "chain.run(\"Indian\").strip()"
   ]
  },
  {
   "cell_type": "markdown",
   "metadata": {},
   "source": [
    "## Sequencial chain"
   ]
  },
  {
   "cell_type": "code",
   "execution_count": 12,
   "metadata": {},
   "outputs": [],
   "source": [
    "dish_name = PromptTemplate(\n",
    "    input_variables=['cusines'], \n",
    "    template=\"suggest me one good dish in {cusine} food\"\n",
    ")\n",
    "\n",
    "name_chain = LLMChain(llm=client, prompt = dish_name, output_key=\"dish_name\")"
   ]
  },
  {
   "cell_type": "code",
   "execution_count": 13,
   "metadata": {},
   "outputs": [],
   "source": [
    "recipie = PromptTemplate(\n",
    "    input_variables=['dish_name'], \n",
    "    template=\"please tell me how to prepare the food recipe of {dish_name}\"\n",
    ")\n",
    "\n",
    "recipie_chain = LLMChain(llm=client, prompt = dish_name, output_key=\"recipe\")"
   ]
  },
  {
   "cell_type": "code",
   "execution_count": 14,
   "metadata": {},
   "outputs": [],
   "source": [
    "from langchain.chains import SequentialChain"
   ]
  },
  {
   "cell_type": "code",
   "execution_count": 15,
   "metadata": {},
   "outputs": [],
   "source": [
    "chain = SequentialChain(chains=[name_chain, recipie_chain],\n",
    "    input_variables = [\"cusine\"], \n",
    "    output_variables = [\"dish_name\", \"recipe\"]\n",
    ")   "
   ]
  },
  {
   "cell_type": "code",
   "execution_count": 16,
   "metadata": {},
   "outputs": [
    {
     "name": "stderr",
     "output_type": "stream",
     "text": [
      "c:\\Users\\venka\\Anaconda3\\envs\\openaidemo\\lib\\site-packages\\langchain_core\\_api\\deprecation.py:119: LangChainDeprecationWarning: The method `Chain.__call__` was deprecated in langchain 0.1.0 and will be removed in 0.3.0. Use invoke instead.\n",
      "  warn_deprecated(\n"
     ]
    },
    {
     "data": {
      "text/plain": [
       "{'cusine': 'Indian',\n",
       " 'dish_name': '\\n\\nOne good dish in Indian food is butter chicken. It is a creamy, rich and flavorful dish made with marinated chicken cooked in a tomato-based sauce with butter, cream, and a blend of spices. It is usually served with rice or naan bread and is a popular and delicious option for both vegetarians and non-vegetarians.',\n",
       " 'recipe': '\\n\\nOne good dish in Indian food is butter chicken. It is a popular North Indian dish made with succulent pieces of chicken cooked in a creamy tomato-based sauce with a blend of aromatic spices. It is best served with naan or basmati rice.'}"
      ]
     },
     "execution_count": 16,
     "metadata": {},
     "output_type": "execute_result"
    }
   ],
   "source": [
    "chain({\"cusine\": \"Indian\"})"
   ]
  },
  {
   "cell_type": "markdown",
   "metadata": {},
   "source": [
    "## Conversation Buffer Memory"
   ]
  },
  {
   "cell_type": "code",
   "execution_count": 19,
   "metadata": {},
   "outputs": [],
   "source": [
    "from langchain.memory import ConversationBufferMemory"
   ]
  },
  {
   "cell_type": "code",
   "execution_count": 20,
   "metadata": {},
   "outputs": [],
   "source": [
    "memory = ConversationBufferMemory()"
   ]
  },
  {
   "cell_type": "code",
   "execution_count": 21,
   "metadata": {},
   "outputs": [],
   "source": [
    "prompt_template_name = PromptTemplate(\n",
    "    input_variables=['profuct'], \n",
    "    template=\"what would be a good name for the company that makes {product}\"\n",
    ")"
   ]
  },
  {
   "cell_type": "code",
   "execution_count": 27,
   "metadata": {},
   "outputs": [],
   "source": [
    "chain = LLMChain(llm=client, prompt=prompt_template_name,memory=memory)"
   ]
  },
  {
   "cell_type": "code",
   "execution_count": 28,
   "metadata": {},
   "outputs": [
    {
     "data": {
      "text/plain": [
       "'Vine & Vino Co.'"
      ]
     },
     "execution_count": 28,
     "metadata": {},
     "output_type": "execute_result"
    }
   ],
   "source": [
    "chain.run(\"wines\").strip()"
   ]
  },
  {
   "cell_type": "code",
   "execution_count": 29,
   "metadata": {},
   "outputs": [
    {
     "data": {
      "text/plain": [
       "'\"Capture Co.\"'"
      ]
     },
     "execution_count": 29,
     "metadata": {},
     "output_type": "execute_result"
    }
   ],
   "source": [
    "chain.run(\"Camera\").strip()"
   ]
  },
  {
   "cell_type": "code",
   "execution_count": 30,
   "metadata": {},
   "outputs": [
    {
     "data": {
      "text/plain": [
       "'1. SkyTech Drones\\n2. AeroFly Innovations\\n3. SkyHigh Robotics\\n4. Airborne Technologies\\n5. FlightWorks Drones\\n6. Precision Aerial Solutions\\n7. SkyEye Robotics\\n8. DroneMasters\\n9. Aerial Dynamics\\n10. Horizon Drones LLC'"
      ]
     },
     "execution_count": 30,
     "metadata": {},
     "output_type": "execute_result"
    }
   ],
   "source": [
    "chain.run(\"Drone\").strip()"
   ]
  },
  {
   "cell_type": "code",
   "execution_count": 31,
   "metadata": {},
   "outputs": [
    {
     "data": {
      "text/plain": [
       "ConversationBufferMemory(chat_memory=InMemoryChatMessageHistory(messages=[HumanMessage(content='wines'), AIMessage(content='\\n\\nVine & Vino Co. '), HumanMessage(content='Camera'), AIMessage(content=' \\n\\n\\n\"Capture Co.\" '), HumanMessage(content='Drone'), AIMessage(content='\\n\\n1. SkyTech Drones\\n2. AeroFly Innovations\\n3. SkyHigh Robotics\\n4. Airborne Technologies\\n5. FlightWorks Drones\\n6. Precision Aerial Solutions\\n7. SkyEye Robotics\\n8. DroneMasters\\n9. Aerial Dynamics\\n10. Horizon Drones LLC')]))"
      ]
     },
     "execution_count": 31,
     "metadata": {},
     "output_type": "execute_result"
    }
   ],
   "source": [
    "chain.memory"
   ]
  },
  {
   "cell_type": "code",
   "execution_count": 32,
   "metadata": {},
   "outputs": [
    {
     "data": {
      "text/plain": [
       "'Human: wines\\nAI: \\n\\nVine & Vino Co. \\nHuman: Camera\\nAI:  \\n\\n\\n\"Capture Co.\" \\nHuman: Drone\\nAI: \\n\\n1. SkyTech Drones\\n2. AeroFly Innovations\\n3. SkyHigh Robotics\\n4. Airborne Technologies\\n5. FlightWorks Drones\\n6. Precision Aerial Solutions\\n7. SkyEye Robotics\\n8. DroneMasters\\n9. Aerial Dynamics\\n10. Horizon Drones LLC'"
      ]
     },
     "execution_count": 32,
     "metadata": {},
     "output_type": "execute_result"
    }
   ],
   "source": [
    "chain.memory.buffer"
   ]
  },
  {
   "cell_type": "code",
   "execution_count": 33,
   "metadata": {},
   "outputs": [
    {
     "data": {
      "text/plain": [
       "[HumanMessage(content='wines'),\n",
       " AIMessage(content='\\n\\nVine & Vino Co. '),\n",
       " HumanMessage(content='Camera'),\n",
       " AIMessage(content=' \\n\\n\\n\"Capture Co.\" '),\n",
       " HumanMessage(content='Drone'),\n",
       " AIMessage(content='\\n\\n1. SkyTech Drones\\n2. AeroFly Innovations\\n3. SkyHigh Robotics\\n4. Airborne Technologies\\n5. FlightWorks Drones\\n6. Precision Aerial Solutions\\n7. SkyEye Robotics\\n8. DroneMasters\\n9. Aerial Dynamics\\n10. Horizon Drones LLC')]"
      ]
     },
     "execution_count": 33,
     "metadata": {},
     "output_type": "execute_result"
    }
   ],
   "source": [
    "chain.memory.buffer_as_messages"
   ]
  },
  {
   "cell_type": "code",
   "execution_count": 34,
   "metadata": {},
   "outputs": [
    {
     "data": {
      "text/plain": [
       "'Human: wines\\nAI: \\n\\nVine & Vino Co. \\nHuman: Camera\\nAI:  \\n\\n\\n\"Capture Co.\" \\nHuman: Drone\\nAI: \\n\\n1. SkyTech Drones\\n2. AeroFly Innovations\\n3. SkyHigh Robotics\\n4. Airborne Technologies\\n5. FlightWorks Drones\\n6. Precision Aerial Solutions\\n7. SkyEye Robotics\\n8. DroneMasters\\n9. Aerial Dynamics\\n10. Horizon Drones LLC'"
      ]
     },
     "execution_count": 34,
     "metadata": {},
     "output_type": "execute_result"
    }
   ],
   "source": [
    "chain.memory.buffer_as_str"
   ]
  },
  {
   "cell_type": "markdown",
   "metadata": {},
   "source": [
    "## Conversation Chain\n",
    "\n",
    "* conversation buffer memory goes growing endless\n",
    "* Just remember last 5 conversation chain\n",
    "* Just remember last 10-20 conversation chain"
   ]
  },
  {
   "cell_type": "code",
   "execution_count": 60,
   "metadata": {},
   "outputs": [],
   "source": [
    "from langchain.chains import ConversationChain"
   ]
  },
  {
   "cell_type": "code",
   "execution_count": 61,
   "metadata": {},
   "outputs": [],
   "source": [
    "client = OpenAI(openai_api_key = mykey, temperature=0.7)"
   ]
  },
  {
   "cell_type": "code",
   "execution_count": 62,
   "metadata": {},
   "outputs": [],
   "source": [
    "convo = ConversationChain(llm=client, memory = memory)"
   ]
  },
  {
   "cell_type": "code",
   "execution_count": 63,
   "metadata": {},
   "outputs": [
    {
     "name": "stdout",
     "output_type": "stream",
     "text": [
      "The following is a friendly conversation between a human and an AI. The AI is talkative and provides lots of specific details from its context. If the AI does not know the answer to a question, it truthfully says it does not know.\n",
      "\n",
      "Current conversation:\n",
      "{history}\n",
      "Human: {input}\n",
      "AI:\n"
     ]
    }
   ],
   "source": [
    "print(convo.prompt.template)"
   ]
  },
  {
   "cell_type": "code",
   "execution_count": 64,
   "metadata": {},
   "outputs": [
    {
     "data": {
      "text/plain": [
       "\" The first T20 cricket world cup was won by India in 2007. The final match was played between India and Pakistan in Johannesburg, South Africa. India won by 5 runs, with India's captain, Mahendra Singh Dhoni, being named the Man of the Match.\""
      ]
     },
     "execution_count": 64,
     "metadata": {},
     "output_type": "execute_result"
    }
   ],
   "source": [
    "convo.run(\"who won the first T20 cricket worldcup?\")"
   ]
  },
  {
   "cell_type": "code",
   "execution_count": 65,
   "metadata": {},
   "outputs": [
    {
     "data": {
      "text/plain": [
       "' The current Prime Minister of India is Narendra Modi. He is a member of the Bharatiya Janata Party (BJP) and has been in office since 2014. He was re-elected for a second term in 2019.'"
      ]
     },
     "execution_count": 65,
     "metadata": {},
     "output_type": "execute_result"
    }
   ],
   "source": [
    "convo.run(\"who is the current Prime Minister of India?\")"
   ]
  },
  {
   "cell_type": "code",
   "execution_count": 66,
   "metadata": {},
   "outputs": [
    {
     "data": {
      "text/plain": [
       "' As mentioned earlier, the captain of the winning team was Mahendra Singh Dhoni. He is a former Indian cricketer and has also served as the captain of the Indian national cricket team. Under his leadership, India won many major tournaments, including the 2007 T20 World Cup.'"
      ]
     },
     "execution_count": 66,
     "metadata": {},
     "output_type": "execute_result"
    }
   ],
   "source": [
    "convo.run(\"who was the captain of the winning team?\")"
   ]
  },
  {
   "cell_type": "markdown",
   "metadata": {},
   "source": [
    "## Conversation Buffer Window Memory"
   ]
  },
  {
   "cell_type": "code",
   "execution_count": 67,
   "metadata": {},
   "outputs": [],
   "source": [
    "from langchain.memory import ConversationBufferWindowMemory"
   ]
  },
  {
   "cell_type": "code",
   "execution_count": 83,
   "metadata": {},
   "outputs": [],
   "source": [
    "memory = ConversationBufferWindowMemory(k=2) # It will sustain only till the kth prompt"
   ]
  },
  {
   "cell_type": "code",
   "execution_count": 84,
   "metadata": {},
   "outputs": [],
   "source": [
    "convo = ConversationChain(llm=client, memory = memory)"
   ]
  },
  {
   "cell_type": "code",
   "execution_count": 85,
   "metadata": {},
   "outputs": [
    {
     "data": {
      "text/plain": [
       "' The first T20 cricket worldcup was won by India in 2007. They defeated Pakistan in the final match by 5 runs. It was held in South Africa and the man of the match was Irfan Pathan.'"
      ]
     },
     "execution_count": 85,
     "metadata": {},
     "output_type": "execute_result"
    }
   ],
   "source": [
    "convo.run(\"who won the first T20 cricket worldcup?\")"
   ]
  },
  {
   "cell_type": "code",
   "execution_count": 86,
   "metadata": {},
   "outputs": [
    {
     "data": {
      "text/plain": [
       "' The current Prime Minister of India is Narendra Modi. He has been in office since 2014 and is currently serving his second term. He is a member of the Bharatiya Janata Party (BJP) and was previously the Chief Minister of Gujarat.'"
      ]
     },
     "execution_count": 86,
     "metadata": {},
     "output_type": "execute_result"
    }
   ],
   "source": [
    "convo.run(\"who is the current Prime Minister of India?\")"
   ]
  },
  {
   "cell_type": "code",
   "execution_count": 87,
   "metadata": {},
   "outputs": [
    {
     "data": {
      "text/plain": [
       "' The captain of the winning team for the first T20 cricket worldcup was Mahendra Singh Dhoni. He is considered one of the greatest captains in Indian cricket history and is known for his calm and composed leadership style. He also led India to victory in the 2011 ICC Cricket World Cup.'"
      ]
     },
     "execution_count": 87,
     "metadata": {},
     "output_type": "execute_result"
    }
   ],
   "source": [
    "convo.run(\"who was the captain of the winning team?\")"
   ]
  },
  {
   "cell_type": "code",
   "execution_count": null,
   "metadata": {},
   "outputs": [],
   "source": []
  }
 ],
 "metadata": {
  "kernelspec": {
   "display_name": "openaidemo",
   "language": "python",
   "name": "python3"
  },
  "language_info": {
   "codemirror_mode": {
    "name": "ipython",
    "version": 3
   },
   "file_extension": ".py",
   "mimetype": "text/x-python",
   "name": "python",
   "nbconvert_exporter": "python",
   "pygments_lexer": "ipython3",
   "version": "3.8.19"
  }
 },
 "nbformat": 4,
 "nbformat_minor": 2
}
