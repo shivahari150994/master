{
 "cells": [
  {
   "cell_type": "markdown",
   "metadata": {},
   "source": [
    "# Hugging face api with langchain"
   ]
  },
  {
   "cell_type": "code",
   "execution_count": 3,
   "metadata": {},
   "outputs": [],
   "source": [
    "import langchain\n",
    "import langchain_openai\n",
    "from langchain_openai import OpenAI"
   ]
  },
  {
   "cell_type": "code",
   "execution_count": 6,
   "metadata": {},
   "outputs": [],
   "source": [
    "mykey = \"sk-proj-QxMNKPIJYdCfsKs9LkG1T3BlbkFJrVvEHqNWxv2lEGgNHjLX\""
   ]
  },
  {
   "cell_type": "code",
   "execution_count": 7,
   "metadata": {},
   "outputs": [],
   "source": [
    "client = OpenAI(openai_api_key = mykey)"
   ]
  },
  {
   "cell_type": "code",
   "execution_count": 8,
   "metadata": {},
   "outputs": [],
   "source": [
    "prompt1 = \"Can you tell me the capital of India\""
   ]
  },
  {
   "cell_type": "code",
   "execution_count": 10,
   "metadata": {},
   "outputs": [
    {
     "data": {
      "text/plain": [
       "'The capital of India is New Delhi.'"
      ]
     },
     "execution_count": 10,
     "metadata": {},
     "output_type": "execute_result"
    }
   ],
   "source": [
    "client.predict(prompt1).strip()"
   ]
  },
  {
   "cell_type": "code",
   "execution_count": 11,
   "metadata": {},
   "outputs": [],
   "source": [
    "prompt2 = \"what exactly are tockens, vector?\""
   ]
  },
  {
   "cell_type": "code",
   "execution_count": 12,
   "metadata": {},
   "outputs": [
    {
     "data": {
      "text/plain": [
       "'Tokens refer to individual units of language or symbols that hold specific meaning in a given context. In computer programming, tokens are often used to represent different data types, keywords, or operators. They are organized into a sequential order to form a meaningful expression or statement.\\n\\nVectors, on the other hand, refer to a data structure that is used to store and manipulate multiple values or data elements. Vectors are often used in programming languages to represent arrays or lists of data, and they allow for efficient storage and retrieval of data. In mathematics, vectors refer to quantities that have both magnitude and direction.'"
      ]
     },
     "execution_count": 12,
     "metadata": {},
     "output_type": "execute_result"
    }
   ],
   "source": [
    "client.predict(prompt2).strip()"
   ]
  },
  {
   "cell_type": "code",
   "execution_count": 17,
   "metadata": {},
   "outputs": [],
   "source": [
    "prompt3 = \"Can you write a pyspark code for random forest binary classification model and show the rensponse on .py formate?\""
   ]
  },
  {
   "cell_type": "code",
   "execution_count": 18,
   "metadata": {},
   "outputs": [
    {
     "data": {
      "text/plain": [
       "'\\n# Import necessary libraries\\nfrom pyspark.ml import Pipeline\\nfrom pyspark.ml.feature import VectorAssembler, StringIndexer\\nfrom pyspark.ml.classification import RandomForestClassifier\\nfrom pyspark.ml.evaluation import BinaryClassificationEvaluator\\n\\n# Load data\\ndf = spark.read.csv(\\'data.csv\\', header=True, inferSchema=True)\\n\\n# Select features and target variable\\nfeatures = df.columns[:-1]\\ntarget = df.columns[-1]\\n\\n# Create vector assembler\\nassembler = VectorAssembler(inputCols=features, outputCol=\\'features\\')\\n\\n# Convert target variable to numerical format\\nindexer = StringIndexer(inputCol=target, outputCol=\\'label\\')\\n\\n# Split data into train and test sets\\ntrain, test = df.randomSplit([0.7, 0.3])\\n\\n# Train model\\nrf = RandomForestClassifier()\\npipeline = Pipeline(stages=[assembler, indexer, rf])\\nmodel = pipeline.fit(train)\\n\\n# Make predictions on test set\\npredictions = model.transform(test)\\n\\n# Evaluate model performance\\nevaluator = BinaryClassificationEvaluator()\\nprint(\"Area under ROC curve: {}\".format(evaluator.evaluate(predictions)))\\n\\n# Save model in .py format\\nmodel.write().overwrite().save(\\'rf_model\\')\\n\\n# Load saved model\\nfrom pyspark.ml import PipelineModel\\nsaved'"
      ]
     },
     "execution_count": 18,
     "metadata": {},
     "output_type": "execute_result"
    }
   ],
   "source": [
    "client.predict(prompt3)"
   ]
  },
  {
   "cell_type": "markdown",
   "metadata": {},
   "source": [
    "## Prompt templates:"
   ]
  },
  {
   "cell_type": "code",
   "execution_count": 19,
   "metadata": {},
   "outputs": [],
   "source": [
    "from langchain.prompts import PromptTemplate"
   ]
  },
  {
   "cell_type": "code",
   "execution_count": 20,
   "metadata": {},
   "outputs": [],
   "source": [
    "prompt_template_name = PromptTemplate(\n",
    "    input_variables=[\"city\"],\n",
    "    template=\"can you tell me the capital of {state}\"\n",
    ")"
   ]
  },
  {
   "cell_type": "code",
   "execution_count": 22,
   "metadata": {},
   "outputs": [],
   "source": [
    "prompt_temp1 = prompt_template_name.format(state = \"Tamil Nadu\")"
   ]
  },
  {
   "cell_type": "code",
   "execution_count": 24,
   "metadata": {},
   "outputs": [
    {
     "data": {
      "text/plain": [
       "'The capital of Tamil Nadu is Chennai.'"
      ]
     },
     "execution_count": 24,
     "metadata": {},
     "output_type": "execute_result"
    }
   ],
   "source": [
    "client.predict(prompt_temp1).strip()"
   ]
  },
  {
   "cell_type": "code",
   "execution_count": 29,
   "metadata": {},
   "outputs": [],
   "source": [
    "prompt = PromptTemplate.from_template(\"who won the {count} T20 cricket world cup?\")"
   ]
  },
  {
   "cell_type": "code",
   "execution_count": 31,
   "metadata": {},
   "outputs": [],
   "source": [
    "prompt_temp2 = prompt.format(count = \"first\")"
   ]
  },
  {
   "cell_type": "code",
   "execution_count": null,
   "metadata": {},
   "outputs": [],
   "source": []
  }
 ],
 "metadata": {
  "kernelspec": {
   "display_name": "openaidemo",
   "language": "python",
   "name": "python3"
  },
  "language_info": {
   "codemirror_mode": {
    "name": "ipython",
    "version": 3
   },
   "file_extension": ".py",
   "mimetype": "text/x-python",
   "name": "python",
   "nbconvert_exporter": "python",
   "pygments_lexer": "ipython3",
   "version": "3.8.19"
  }
 },
 "nbformat": 4,
 "nbformat_minor": 2
}
