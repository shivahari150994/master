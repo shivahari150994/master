{
 "cells": [
  {
   "cell_type": "code",
   "execution_count": 2,
   "id": "01b02687-8eab-48e7-be1c-972997d04b0a",
   "metadata": {},
   "outputs": [],
   "source": [
    "import openai"
   ]
  },
  {
   "cell_type": "code",
   "execution_count": 3,
   "id": "1c3c3c08-335e-4893-82d2-f6e317baae77",
   "metadata": {},
   "outputs": [],
   "source": [
    "mykey = \"sk-proj-QxMNKPIJYdCfsKs9LkG1T3BlbkFJrVvEHqNWxv2lEGgNHjLX\""
   ]
  },
  {
   "cell_type": "code",
   "execution_count": 4,
   "id": "68ac8003",
   "metadata": {},
   "outputs": [],
   "source": [
    "openai.api_key = mykey"
   ]
  },
  {
   "cell_type": "code",
   "execution_count": 5,
   "id": "d65e0db7",
   "metadata": {},
   "outputs": [],
   "source": [
    "all_models = list(openai.models.list())"
   ]
  },
  {
   "cell_type": "code",
   "execution_count": 6,
   "id": "3bbd779e",
   "metadata": {},
   "outputs": [
    {
     "data": {
      "text/html": [
       "<div>\n",
       "<style scoped>\n",
       "    .dataframe tbody tr th:only-of-type {\n",
       "        vertical-align: middle;\n",
       "    }\n",
       "\n",
       "    .dataframe tbody tr th {\n",
       "        vertical-align: top;\n",
       "    }\n",
       "\n",
       "    .dataframe thead th {\n",
       "        text-align: right;\n",
       "    }\n",
       "</style>\n",
       "<table border=\"1\" class=\"dataframe\">\n",
       "  <thead>\n",
       "    <tr style=\"text-align: right;\">\n",
       "      <th></th>\n",
       "      <th>id</th>\n",
       "      <th>created</th>\n",
       "      <th>object</th>\n",
       "      <th>owned_by</th>\n",
       "    </tr>\n",
       "  </thead>\n",
       "  <tbody>\n",
       "    <tr>\n",
       "      <th>0</th>\n",
       "      <td>(id, dall-e-3)</td>\n",
       "      <td>(created, 1698785189)</td>\n",
       "      <td>(object, model)</td>\n",
       "      <td>(owned_by, system)</td>\n",
       "    </tr>\n",
       "    <tr>\n",
       "      <th>1</th>\n",
       "      <td>(id, gpt-4-1106-preview)</td>\n",
       "      <td>(created, 1698957206)</td>\n",
       "      <td>(object, model)</td>\n",
       "      <td>(owned_by, system)</td>\n",
       "    </tr>\n",
       "    <tr>\n",
       "      <th>2</th>\n",
       "      <td>(id, whisper-1)</td>\n",
       "      <td>(created, 1677532384)</td>\n",
       "      <td>(object, model)</td>\n",
       "      <td>(owned_by, openai-internal)</td>\n",
       "    </tr>\n",
       "    <tr>\n",
       "      <th>3</th>\n",
       "      <td>(id, gpt-4o-2024-05-13)</td>\n",
       "      <td>(created, 1715368132)</td>\n",
       "      <td>(object, model)</td>\n",
       "      <td>(owned_by, system)</td>\n",
       "    </tr>\n",
       "    <tr>\n",
       "      <th>4</th>\n",
       "      <td>(id, babbage-002)</td>\n",
       "      <td>(created, 1692634615)</td>\n",
       "      <td>(object, model)</td>\n",
       "      <td>(owned_by, system)</td>\n",
       "    </tr>\n",
       "    <tr>\n",
       "      <th>5</th>\n",
       "      <td>(id, dall-e-2)</td>\n",
       "      <td>(created, 1698798177)</td>\n",
       "      <td>(object, model)</td>\n",
       "      <td>(owned_by, system)</td>\n",
       "    </tr>\n",
       "    <tr>\n",
       "      <th>6</th>\n",
       "      <td>(id, gpt-3.5-turbo-16k)</td>\n",
       "      <td>(created, 1683758102)</td>\n",
       "      <td>(object, model)</td>\n",
       "      <td>(owned_by, openai-internal)</td>\n",
       "    </tr>\n",
       "    <tr>\n",
       "      <th>7</th>\n",
       "      <td>(id, tts-1-hd-1106)</td>\n",
       "      <td>(created, 1699053533)</td>\n",
       "      <td>(object, model)</td>\n",
       "      <td>(owned_by, system)</td>\n",
       "    </tr>\n",
       "    <tr>\n",
       "      <th>8</th>\n",
       "      <td>(id, tts-1-hd)</td>\n",
       "      <td>(created, 1699046015)</td>\n",
       "      <td>(object, model)</td>\n",
       "      <td>(owned_by, system)</td>\n",
       "    </tr>\n",
       "    <tr>\n",
       "      <th>9</th>\n",
       "      <td>(id, gpt-4o)</td>\n",
       "      <td>(created, 1715367049)</td>\n",
       "      <td>(object, model)</td>\n",
       "      <td>(owned_by, system)</td>\n",
       "    </tr>\n",
       "    <tr>\n",
       "      <th>10</th>\n",
       "      <td>(id, gpt-3.5-turbo-instruct-0914)</td>\n",
       "      <td>(created, 1694122472)</td>\n",
       "      <td>(object, model)</td>\n",
       "      <td>(owned_by, system)</td>\n",
       "    </tr>\n",
       "    <tr>\n",
       "      <th>11</th>\n",
       "      <td>(id, gpt-3.5-turbo-instruct)</td>\n",
       "      <td>(created, 1692901427)</td>\n",
       "      <td>(object, model)</td>\n",
       "      <td>(owned_by, system)</td>\n",
       "    </tr>\n",
       "    <tr>\n",
       "      <th>12</th>\n",
       "      <td>(id, text-embedding-3-small)</td>\n",
       "      <td>(created, 1705948997)</td>\n",
       "      <td>(object, model)</td>\n",
       "      <td>(owned_by, system)</td>\n",
       "    </tr>\n",
       "    <tr>\n",
       "      <th>13</th>\n",
       "      <td>(id, gpt-4-turbo-2024-04-09)</td>\n",
       "      <td>(created, 1712601677)</td>\n",
       "      <td>(object, model)</td>\n",
       "      <td>(owned_by, system)</td>\n",
       "    </tr>\n",
       "    <tr>\n",
       "      <th>14</th>\n",
       "      <td>(id, tts-1)</td>\n",
       "      <td>(created, 1681940951)</td>\n",
       "      <td>(object, model)</td>\n",
       "      <td>(owned_by, openai-internal)</td>\n",
       "    </tr>\n",
       "    <tr>\n",
       "      <th>15</th>\n",
       "      <td>(id, gpt-4-turbo)</td>\n",
       "      <td>(created, 1712361441)</td>\n",
       "      <td>(object, model)</td>\n",
       "      <td>(owned_by, system)</td>\n",
       "    </tr>\n",
       "    <tr>\n",
       "      <th>16</th>\n",
       "      <td>(id, text-embedding-3-large)</td>\n",
       "      <td>(created, 1705953180)</td>\n",
       "      <td>(object, model)</td>\n",
       "      <td>(owned_by, system)</td>\n",
       "    </tr>\n",
       "    <tr>\n",
       "      <th>17</th>\n",
       "      <td>(id, gpt-3.5-turbo-1106)</td>\n",
       "      <td>(created, 1698959748)</td>\n",
       "      <td>(object, model)</td>\n",
       "      <td>(owned_by, system)</td>\n",
       "    </tr>\n",
       "    <tr>\n",
       "      <th>18</th>\n",
       "      <td>(id, gpt-4-0125-preview)</td>\n",
       "      <td>(created, 1706037612)</td>\n",
       "      <td>(object, model)</td>\n",
       "      <td>(owned_by, system)</td>\n",
       "    </tr>\n",
       "    <tr>\n",
       "      <th>19</th>\n",
       "      <td>(id, gpt-3.5-turbo-0125)</td>\n",
       "      <td>(created, 1706048358)</td>\n",
       "      <td>(object, model)</td>\n",
       "      <td>(owned_by, system)</td>\n",
       "    </tr>\n",
       "    <tr>\n",
       "      <th>20</th>\n",
       "      <td>(id, gpt-3.5-turbo)</td>\n",
       "      <td>(created, 1677610602)</td>\n",
       "      <td>(object, model)</td>\n",
       "      <td>(owned_by, openai)</td>\n",
       "    </tr>\n",
       "    <tr>\n",
       "      <th>21</th>\n",
       "      <td>(id, gpt-3.5-turbo-0301)</td>\n",
       "      <td>(created, 1677649963)</td>\n",
       "      <td>(object, model)</td>\n",
       "      <td>(owned_by, openai)</td>\n",
       "    </tr>\n",
       "    <tr>\n",
       "      <th>22</th>\n",
       "      <td>(id, gpt-4-turbo-preview)</td>\n",
       "      <td>(created, 1706037777)</td>\n",
       "      <td>(object, model)</td>\n",
       "      <td>(owned_by, system)</td>\n",
       "    </tr>\n",
       "    <tr>\n",
       "      <th>23</th>\n",
       "      <td>(id, tts-1-1106)</td>\n",
       "      <td>(created, 1699053241)</td>\n",
       "      <td>(object, model)</td>\n",
       "      <td>(owned_by, system)</td>\n",
       "    </tr>\n",
       "    <tr>\n",
       "      <th>24</th>\n",
       "      <td>(id, gpt-3.5-turbo-16k-0613)</td>\n",
       "      <td>(created, 1685474247)</td>\n",
       "      <td>(object, model)</td>\n",
       "      <td>(owned_by, openai)</td>\n",
       "    </tr>\n",
       "    <tr>\n",
       "      <th>25</th>\n",
       "      <td>(id, gpt-3.5-turbo-0613)</td>\n",
       "      <td>(created, 1686587434)</td>\n",
       "      <td>(object, model)</td>\n",
       "      <td>(owned_by, openai)</td>\n",
       "    </tr>\n",
       "    <tr>\n",
       "      <th>26</th>\n",
       "      <td>(id, gpt-4)</td>\n",
       "      <td>(created, 1687882411)</td>\n",
       "      <td>(object, model)</td>\n",
       "      <td>(owned_by, openai)</td>\n",
       "    </tr>\n",
       "    <tr>\n",
       "      <th>27</th>\n",
       "      <td>(id, text-embedding-ada-002)</td>\n",
       "      <td>(created, 1671217299)</td>\n",
       "      <td>(object, model)</td>\n",
       "      <td>(owned_by, openai-internal)</td>\n",
       "    </tr>\n",
       "    <tr>\n",
       "      <th>28</th>\n",
       "      <td>(id, gpt-4-1106-vision-preview)</td>\n",
       "      <td>(created, 1711473033)</td>\n",
       "      <td>(object, model)</td>\n",
       "      <td>(owned_by, system)</td>\n",
       "    </tr>\n",
       "    <tr>\n",
       "      <th>29</th>\n",
       "      <td>(id, davinci-002)</td>\n",
       "      <td>(created, 1692634301)</td>\n",
       "      <td>(object, model)</td>\n",
       "      <td>(owned_by, system)</td>\n",
       "    </tr>\n",
       "    <tr>\n",
       "      <th>30</th>\n",
       "      <td>(id, gpt-4-0613)</td>\n",
       "      <td>(created, 1686588896)</td>\n",
       "      <td>(object, model)</td>\n",
       "      <td>(owned_by, openai)</td>\n",
       "    </tr>\n",
       "    <tr>\n",
       "      <th>31</th>\n",
       "      <td>(id, gpt-4-vision-preview)</td>\n",
       "      <td>(created, 1698894917)</td>\n",
       "      <td>(object, model)</td>\n",
       "      <td>(owned_by, system)</td>\n",
       "    </tr>\n",
       "  </tbody>\n",
       "</table>\n",
       "</div>"
      ],
      "text/plain": [
       "                                   id                created           object  \\\n",
       "0                      (id, dall-e-3)  (created, 1698785189)  (object, model)   \n",
       "1            (id, gpt-4-1106-preview)  (created, 1698957206)  (object, model)   \n",
       "2                     (id, whisper-1)  (created, 1677532384)  (object, model)   \n",
       "3             (id, gpt-4o-2024-05-13)  (created, 1715368132)  (object, model)   \n",
       "4                   (id, babbage-002)  (created, 1692634615)  (object, model)   \n",
       "5                      (id, dall-e-2)  (created, 1698798177)  (object, model)   \n",
       "6             (id, gpt-3.5-turbo-16k)  (created, 1683758102)  (object, model)   \n",
       "7                 (id, tts-1-hd-1106)  (created, 1699053533)  (object, model)   \n",
       "8                      (id, tts-1-hd)  (created, 1699046015)  (object, model)   \n",
       "9                        (id, gpt-4o)  (created, 1715367049)  (object, model)   \n",
       "10  (id, gpt-3.5-turbo-instruct-0914)  (created, 1694122472)  (object, model)   \n",
       "11       (id, gpt-3.5-turbo-instruct)  (created, 1692901427)  (object, model)   \n",
       "12       (id, text-embedding-3-small)  (created, 1705948997)  (object, model)   \n",
       "13       (id, gpt-4-turbo-2024-04-09)  (created, 1712601677)  (object, model)   \n",
       "14                        (id, tts-1)  (created, 1681940951)  (object, model)   \n",
       "15                  (id, gpt-4-turbo)  (created, 1712361441)  (object, model)   \n",
       "16       (id, text-embedding-3-large)  (created, 1705953180)  (object, model)   \n",
       "17           (id, gpt-3.5-turbo-1106)  (created, 1698959748)  (object, model)   \n",
       "18           (id, gpt-4-0125-preview)  (created, 1706037612)  (object, model)   \n",
       "19           (id, gpt-3.5-turbo-0125)  (created, 1706048358)  (object, model)   \n",
       "20                (id, gpt-3.5-turbo)  (created, 1677610602)  (object, model)   \n",
       "21           (id, gpt-3.5-turbo-0301)  (created, 1677649963)  (object, model)   \n",
       "22          (id, gpt-4-turbo-preview)  (created, 1706037777)  (object, model)   \n",
       "23                   (id, tts-1-1106)  (created, 1699053241)  (object, model)   \n",
       "24       (id, gpt-3.5-turbo-16k-0613)  (created, 1685474247)  (object, model)   \n",
       "25           (id, gpt-3.5-turbo-0613)  (created, 1686587434)  (object, model)   \n",
       "26                        (id, gpt-4)  (created, 1687882411)  (object, model)   \n",
       "27       (id, text-embedding-ada-002)  (created, 1671217299)  (object, model)   \n",
       "28    (id, gpt-4-1106-vision-preview)  (created, 1711473033)  (object, model)   \n",
       "29                  (id, davinci-002)  (created, 1692634301)  (object, model)   \n",
       "30                   (id, gpt-4-0613)  (created, 1686588896)  (object, model)   \n",
       "31         (id, gpt-4-vision-preview)  (created, 1698894917)  (object, model)   \n",
       "\n",
       "                       owned_by  \n",
       "0            (owned_by, system)  \n",
       "1            (owned_by, system)  \n",
       "2   (owned_by, openai-internal)  \n",
       "3            (owned_by, system)  \n",
       "4            (owned_by, system)  \n",
       "5            (owned_by, system)  \n",
       "6   (owned_by, openai-internal)  \n",
       "7            (owned_by, system)  \n",
       "8            (owned_by, system)  \n",
       "9            (owned_by, system)  \n",
       "10           (owned_by, system)  \n",
       "11           (owned_by, system)  \n",
       "12           (owned_by, system)  \n",
       "13           (owned_by, system)  \n",
       "14  (owned_by, openai-internal)  \n",
       "15           (owned_by, system)  \n",
       "16           (owned_by, system)  \n",
       "17           (owned_by, system)  \n",
       "18           (owned_by, system)  \n",
       "19           (owned_by, system)  \n",
       "20           (owned_by, openai)  \n",
       "21           (owned_by, openai)  \n",
       "22           (owned_by, system)  \n",
       "23           (owned_by, system)  \n",
       "24           (owned_by, openai)  \n",
       "25           (owned_by, openai)  \n",
       "26           (owned_by, openai)  \n",
       "27  (owned_by, openai-internal)  \n",
       "28           (owned_by, system)  \n",
       "29           (owned_by, system)  \n",
       "30           (owned_by, openai)  \n",
       "31           (owned_by, system)  "
      ]
     },
     "execution_count": 6,
     "metadata": {},
     "output_type": "execute_result"
    }
   ],
   "source": [
    "import pandas as pd\n",
    "pd.DataFrame(all_models, columns= [\"id\", \"created\", \"object\", \"owned_by\"])"
   ]
  },
  {
   "cell_type": "code",
   "execution_count": 7,
   "id": "11f4c7d8",
   "metadata": {},
   "outputs": [],
   "source": [
    "import os\n",
    "from openai import OpenAI\n",
    "\n",
    "client = OpenAI(\n",
    "    # This is the default and can be omitted\n",
    "    api_key=mykey,\n",
    ")\n"
   ]
  },
  {
   "cell_type": "code",
   "execution_count": 8,
   "id": "c137eaf9",
   "metadata": {},
   "outputs": [],
   "source": [
    "response = client.chat.completions.create(\n",
    "  model=\"gpt-3.5-turbo\",\n",
    "  messages=[\n",
    "    {\n",
    "      \"role\": \"system\",\n",
    "      \"content\": [\n",
    "        {\n",
    "          \"type\": \"text\",\n",
    "          \"text\": \"I want a funny response\"\n",
    "        }\n",
    "      ]\n",
    "    },\n",
    "    {\n",
    "      \"role\": \"user\",\n",
    "      \"content\": [\n",
    "        {\n",
    "          \"type\": \"text\",\n",
    "          \"text\": \"Who is Rahul Ghandi?\"\n",
    "        }\n",
    "      ]\n",
    "    },\n",
    "    {\n",
    "      \"role\": \"assistant\",\n",
    "      \"content\": [\n",
    "        {\n",
    "          \"type\": \"text\",\n",
    "          \"text\": \"I'm sorry, but I couldn't find information on a person named Shivahari Revathi Venkateswaran. It's possible that they are a private individual or not widely known. If you have more context or details, I may be able to help you further.\"\n",
    "        }\n",
    "      ]\n",
    "    }\n",
    "  ],\n",
    "  temperature=1,\n",
    "  max_tokens=100,\n",
    "  top_p=1,\n",
    "  frequency_penalty=0,\n",
    "  presence_penalty=0\n",
    ")"
   ]
  },
  {
   "cell_type": "code",
   "execution_count": 9,
   "id": "80c05bf1",
   "metadata": {},
   "outputs": [
    {
     "data": {
      "text/plain": [
       "'Rahul Gandhi is known for being a prominent Indian politician and the former President of the Indian National Congress party. Some people find his political career quite amusing, like a never-ending rollercoaster of surprises and controversies. But hey, at least he keeps things interesting, right?'"
      ]
     },
     "execution_count": 9,
     "metadata": {},
     "output_type": "execute_result"
    }
   ],
   "source": [
    "response.choices[0].message.content"
   ]
  },
  {
   "cell_type": "markdown",
   "id": "52128ee0",
   "metadata": {},
   "source": [
    "## Prompt Engineering"
   ]
  },
  {
   "cell_type": "code",
   "execution_count": 10,
   "id": "e02b3794",
   "metadata": {},
   "outputs": [],
   "source": [
    "description = \"Hi... I am Shivahari. I want to travel to New York with my family of 4 people. I want to stay there for 4 days and three nights\""
   ]
  },
  {
   "cell_type": "code",
   "execution_count": 11,
   "id": "9f149ffb",
   "metadata": {},
   "outputs": [],
   "source": [
    "prompt = f'''\n",
    "    Please extract the following information from the given text and return it as a JSON object\":\n",
    "\n",
    "    name \n",
    "    place\n",
    "    number of people\n",
    "    days\n",
    "    nights\n",
    "    events\n",
    "\n",
    "    This is the body of text to extract the information from:\n",
    "    {description}\n",
    "'''"
   ]
  },
  {
   "cell_type": "code",
   "execution_count": 12,
   "id": "da34a9dc",
   "metadata": {},
   "outputs": [],
   "source": [
    "response = client.chat.completions.create(\n",
    "  model=\"gpt-3.5-turbo\",\n",
    "  messages=[\n",
    "  \n",
    "    {\n",
    "      \"role\": \"user\",\n",
    "      \"content\":prompt\n",
    "    },\n",
    "    \n",
    "  ],\n",
    "  temperature=1,\n",
    "  max_tokens=100,\n",
    "  top_p=1,\n",
    "  frequency_penalty=0,\n",
    "  presence_penalty=0\n",
    ")"
   ]
  },
  {
   "cell_type": "code",
   "execution_count": 13,
   "id": "354b35c2",
   "metadata": {},
   "outputs": [],
   "source": [
    "output = response.choices[0].message.content"
   ]
  },
  {
   "cell_type": "code",
   "execution_count": 14,
   "id": "582c738f",
   "metadata": {},
   "outputs": [
    {
     "data": {
      "text/plain": [
       "{'name': 'Shivahari',\n",
       " 'place': 'New York',\n",
       " 'number of people': 4,\n",
       " 'days': 4,\n",
       " 'nights': 3,\n",
       " 'events': []}"
      ]
     },
     "execution_count": 14,
     "metadata": {},
     "output_type": "execute_result"
    }
   ],
   "source": [
    "import json \n",
    "json.loads(output)"
   ]
  },
  {
   "cell_type": "code",
   "execution_count": 57,
   "id": "96d5fd9b",
   "metadata": {},
   "outputs": [],
   "source": [
    "tourism_function = [\n",
    "        {\n",
    "            \"type\": \"function\",\n",
    "            \"function\": {\n",
    "                \"name\": \"get_traveller_information\",\n",
    "                \"description\": \"Get the ninformation from the customer regarding the travel plan\",\n",
    "                \"parameters\": {\n",
    "                    \"type\": \"object\",\n",
    "                    \"properties\": {\n",
    "                        \"Name\":{\n",
    "                            \"type\": \"string\",\n",
    "                            \"description\": \"Name of the customer\",\n",
    "                        }, \n",
    "                        \"Location\":{\n",
    "                            \"type\": \"string\",\n",
    "                            \"description\": \"Location of the trip\",\n",
    "                        },\n",
    "                        \"Total number of people\":{\n",
    "                            \"type\": \"integer\",\n",
    "                            \"description\": \"Total number of people for the trip\",\n",
    "                        },\n",
    "                        \"Number of Nights\":{\n",
    "                            \"type\": \"string\",\n",
    "                            \"description\": \"Number of nights of the trip\",\n",
    "                        },\n",
    "                        \"Number of Days\":{\n",
    "                            \"type\": \"string\",\n",
    "                            \"description\": \"Number of days of the trip\",\n",
    "                        },\n",
    "                        \"location\": {\n",
    "                            \"type\": \"string\",\n",
    "                            \"description\": \"The city and state, e.g. San Francisco, CA\",\n",
    "                        },\n",
    "                        \n",
    "                    },\n",
    "                    \"required\": [\"location\"],\n",
    "                },\n",
    "            },\n",
    "        }\n",
    "    ]"
   ]
  },
  {
   "cell_type": "code",
   "execution_count": 63,
   "id": "43b1c5df",
   "metadata": {},
   "outputs": [],
   "source": [
    "response = client.chat.completions.create(\n",
    "  model=\"gpt-3.5-turbo\",\n",
    "  messages=[\n",
    "  \n",
    "    {\n",
    "      \"role\": \"user\",\n",
    "      \"content\":prompt\n",
    "    },\n",
    "    \n",
    "    \n",
    "  ],\n",
    "  tools=tourism_function,\n",
    "  tool_choice=\"auto\"\n",
    "  # temperature=1,\n",
    "  # max_tokens=100,\n",
    "  # top_p=1,\n",
    "  # frequency_penalty=0,\n",
    "  # presence_penalty=0\n",
    ")"
   ]
  },
  {
   "cell_type": "code",
   "execution_count": 64,
   "id": "51e4d4cd",
   "metadata": {},
   "outputs": [],
   "source": [
    "output2 = response.choices[0].message.tool_calls[0].function"
   ]
  },
  {
   "cell_type": "code",
   "execution_count": 65,
   "id": "4784b5b3",
   "metadata": {},
   "outputs": [
    {
     "data": {
      "text/plain": [
       "Function(arguments='{\"location\":\"New York\",\"Total number of people\":4,\"Number of Days\":\"4\",\"Number of Nights\":\"3\",\"location\":\"New York\"}', name='get_traveller_information')"
      ]
     },
     "execution_count": 65,
     "metadata": {},
     "output_type": "execute_result"
    }
   ],
   "source": [
    "output2"
   ]
  },
  {
   "cell_type": "code",
   "execution_count": 66,
   "id": "7240569b",
   "metadata": {},
   "outputs": [
    {
     "data": {
      "text/plain": [
       "{'location': 'New York',\n",
       " 'Total number of people': 4,\n",
       " 'Number of Days': '4',\n",
       " 'Number of Nights': '3'}"
      ]
     },
     "execution_count": 66,
     "metadata": {},
     "output_type": "execute_result"
    }
   ],
   "source": [
    "json.loads(output2.arguments)"
   ]
  },
  {
   "cell_type": "code",
   "execution_count": 74,
   "id": "775612a7",
   "metadata": {},
   "outputs": [
    {
     "data": {
      "text/plain": [
       "str"
      ]
     },
     "execution_count": 74,
     "metadata": {},
     "output_type": "execute_result"
    }
   ],
   "source": [
    "type(output2.arguments)"
   ]
  },
  {
   "cell_type": "code",
   "execution_count": 75,
   "id": "5d43a06f",
   "metadata": {},
   "outputs": [
    {
     "data": {
      "text/plain": [
       "{'location': 'New York',\n",
       " 'Total number of people': 4,\n",
       " 'Number of Days': '4',\n",
       " 'Number of Nights': '3'}"
      ]
     },
     "execution_count": 75,
     "metadata": {},
     "output_type": "execute_result"
    }
   ],
   "source": [
    "eval(output2.arguments)"
   ]
  },
  {
   "cell_type": "code",
   "execution_count": 77,
   "id": "309c2ff1",
   "metadata": {},
   "outputs": [
    {
     "data": {
      "text/plain": [
       "dict"
      ]
     },
     "execution_count": 77,
     "metadata": {},
     "output_type": "execute_result"
    }
   ],
   "source": [
    "type(eval(output2.arguments))\n",
    "# Eval will give the actual data type . i.e what is inside the string"
   ]
  },
  {
   "cell_type": "markdown",
   "id": "a5a24a0b",
   "metadata": {},
   "source": [
    "## Function Calling\n",
    "\n",
    "Learn how to connect LLM to external tools"
   ]
  },
  {
   "cell_type": "markdown",
   "id": "cc701e71",
   "metadata": {},
   "source": [
    "## Langchain\n",
    "\n",
    "langchain is like a wrapper for the openai"
   ]
  },
  {
   "cell_type": "code",
   "execution_count": 85,
   "id": "924d459e",
   "metadata": {},
   "outputs": [],
   "source": [
    "import langchain\n",
    "import langchain_openai\n",
    "from langchain_openai import OpenAI"
   ]
  },
  {
   "cell_type": "code",
   "execution_count": 93,
   "id": "48108511",
   "metadata": {},
   "outputs": [],
   "source": [
    "prompt = \"can you tell me how many states are in India and tell the top 10 states in India\""
   ]
  },
  {
   "cell_type": "code",
   "execution_count": 94,
   "id": "20db8b6b",
   "metadata": {},
   "outputs": [],
   "source": [
    "client = OpenAI(openai_api_key = mykey)"
   ]
  },
  {
   "cell_type": "code",
   "execution_count": 95,
   "id": "28866c76",
   "metadata": {},
   "outputs": [
    {
     "data": {
      "text/plain": [
       "'\\n\\nThere are 28 states and 8 union territories in India. The top 10 states in India, based on population, are:\\n\\n1. Uttar Pradesh\\n2. Maharashtra\\n3. Bihar\\n4. West Bengal\\n5. Madhya Pradesh\\n6. Tamil Nadu\\n7. Rajasthan\\n8. Karnataka\\n9. Gujarat\\n10. Andhra Pradesh'"
      ]
     },
     "execution_count": 95,
     "metadata": {},
     "output_type": "execute_result"
    }
   ],
   "source": [
    "client.predict(prompt)"
   ]
  },
  {
   "cell_type": "code",
   "execution_count": null,
   "id": "9c27faba",
   "metadata": {},
   "outputs": [],
   "source": []
  }
 ],
 "metadata": {
  "kernelspec": {
   "display_name": "Python 3 (ipykernel)",
   "language": "python",
   "name": "python3"
  },
  "language_info": {
   "codemirror_mode": {
    "name": "ipython",
    "version": 3
   },
   "file_extension": ".py",
   "mimetype": "text/x-python",
   "name": "python",
   "nbconvert_exporter": "python",
   "pygments_lexer": "ipython3",
   "version": "3.8.19"
  }
 },
 "nbformat": 4,
 "nbformat_minor": 5
}
