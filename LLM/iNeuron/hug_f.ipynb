{
 "cells": [
  {
   "cell_type": "markdown",
   "metadata": {},
   "source": [
    "langchain==0.1.6\n",
    "langchain-cli==0.0.21\n",
    "langchain-openai==0.0.6\n",
    "huggingface_hub==0.21.4\n",
    "python-dotenv==1.0.0\n",
    "pydantic==1.10.13"
   ]
  },
  {
   "cell_type": "code",
   "execution_count": 14,
   "metadata": {},
   "outputs": [
    {
     "name": "stdout",
     "output_type": "stream",
     "text": [
      "Requirement already satisfied: langchain==0.1.6 in c:\\users\\venka\\anaconda3\\envs\\openaidemo\\lib\\site-packages (0.1.6)\n",
      "Requirement already satisfied: PyYAML>=5.3 in c:\\users\\venka\\anaconda3\\envs\\openaidemo\\lib\\site-packages (from langchain==0.1.6) (6.0.1)\n",
      "Requirement already satisfied: SQLAlchemy<3,>=1.4 in c:\\users\\venka\\anaconda3\\envs\\openaidemo\\lib\\site-packages (from langchain==0.1.6) (2.0.30)\n",
      "Requirement already satisfied: aiohttp<4.0.0,>=3.8.3 in c:\\users\\venka\\anaconda3\\envs\\openaidemo\\lib\\site-packages (from langchain==0.1.6) (3.9.5)\n",
      "Requirement already satisfied: async-timeout<5.0.0,>=4.0.0 in c:\\users\\venka\\anaconda3\\envs\\openaidemo\\lib\\site-packages (from langchain==0.1.6) (4.0.3)\n",
      "Requirement already satisfied: dataclasses-json<0.7,>=0.5.7 in c:\\users\\venka\\anaconda3\\envs\\openaidemo\\lib\\site-packages (from langchain==0.1.6) (0.6.7)\n",
      "Requirement already satisfied: jsonpatch<2.0,>=1.33 in c:\\users\\venka\\anaconda3\\envs\\openaidemo\\lib\\site-packages (from langchain==0.1.6) (1.33)\n",
      "Requirement already satisfied: langchain-community<0.1,>=0.0.18 in c:\\users\\venka\\anaconda3\\envs\\openaidemo\\lib\\site-packages (from langchain==0.1.6) (0.0.20)\n",
      "Requirement already satisfied: langchain-core<0.2,>=0.1.22 in c:\\users\\venka\\anaconda3\\envs\\openaidemo\\lib\\site-packages (from langchain==0.1.6) (0.1.23)\n",
      "Requirement already satisfied: langsmith<0.1,>=0.0.83 in c:\\users\\venka\\anaconda3\\envs\\openaidemo\\lib\\site-packages (from langchain==0.1.6) (0.0.87)\n",
      "Requirement already satisfied: numpy<2,>=1 in c:\\users\\venka\\anaconda3\\envs\\openaidemo\\lib\\site-packages (from langchain==0.1.6) (1.24.4)\n",
      "Requirement already satisfied: pydantic<3,>=1 in c:\\users\\venka\\anaconda3\\envs\\openaidemo\\lib\\site-packages (from langchain==0.1.6) (1.10.13)\n",
      "Requirement already satisfied: requests<3,>=2 in c:\\users\\venka\\anaconda3\\envs\\openaidemo\\lib\\site-packages (from langchain==0.1.6) (2.32.3)\n",
      "Requirement already satisfied: tenacity<9.0.0,>=8.1.0 in c:\\users\\venka\\anaconda3\\envs\\openaidemo\\lib\\site-packages (from langchain==0.1.6) (8.3.0)\n",
      "Requirement already satisfied: aiosignal>=1.1.2 in c:\\users\\venka\\anaconda3\\envs\\openaidemo\\lib\\site-packages (from aiohttp<4.0.0,>=3.8.3->langchain==0.1.6) (1.3.1)\n",
      "Requirement already satisfied: attrs>=17.3.0 in c:\\users\\venka\\anaconda3\\envs\\openaidemo\\lib\\site-packages (from aiohttp<4.0.0,>=3.8.3->langchain==0.1.6) (23.2.0)\n",
      "Requirement already satisfied: frozenlist>=1.1.1 in c:\\users\\venka\\anaconda3\\envs\\openaidemo\\lib\\site-packages (from aiohttp<4.0.0,>=3.8.3->langchain==0.1.6) (1.4.1)\n",
      "Requirement already satisfied: multidict<7.0,>=4.5 in c:\\users\\venka\\anaconda3\\envs\\openaidemo\\lib\\site-packages (from aiohttp<4.0.0,>=3.8.3->langchain==0.1.6) (6.0.5)\n",
      "Requirement already satisfied: yarl<2.0,>=1.0 in c:\\users\\venka\\anaconda3\\envs\\openaidemo\\lib\\site-packages (from aiohttp<4.0.0,>=3.8.3->langchain==0.1.6) (1.9.4)\n",
      "Requirement already satisfied: marshmallow<4.0.0,>=3.18.0 in c:\\users\\venka\\anaconda3\\envs\\openaidemo\\lib\\site-packages (from dataclasses-json<0.7,>=0.5.7->langchain==0.1.6) (3.21.3)\n",
      "Requirement already satisfied: typing-inspect<1,>=0.4.0 in c:\\users\\venka\\anaconda3\\envs\\openaidemo\\lib\\site-packages (from dataclasses-json<0.7,>=0.5.7->langchain==0.1.6) (0.9.0)\n",
      "Requirement already satisfied: jsonpointer>=1.9 in c:\\users\\venka\\anaconda3\\envs\\openaidemo\\lib\\site-packages (from jsonpatch<2.0,>=1.33->langchain==0.1.6) (2.4)\n",
      "Requirement already satisfied: anyio<5,>=3 in c:\\users\\venka\\anaconda3\\envs\\openaidemo\\lib\\site-packages (from langchain-core<0.2,>=0.1.22->langchain==0.1.6) (4.4.0)\n",
      "Requirement already satisfied: packaging<24.0,>=23.2 in c:\\users\\venka\\anaconda3\\envs\\openaidemo\\lib\\site-packages (from langchain-core<0.2,>=0.1.22->langchain==0.1.6) (23.2)\n",
      "Requirement already satisfied: typing-extensions>=4.2.0 in c:\\users\\venka\\anaconda3\\envs\\openaidemo\\lib\\site-packages (from pydantic<3,>=1->langchain==0.1.6) (4.12.2)\n",
      "Requirement already satisfied: charset-normalizer<4,>=2 in c:\\users\\venka\\anaconda3\\envs\\openaidemo\\lib\\site-packages (from requests<3,>=2->langchain==0.1.6) (3.3.2)\n",
      "Requirement already satisfied: idna<4,>=2.5 in c:\\users\\venka\\anaconda3\\envs\\openaidemo\\lib\\site-packages (from requests<3,>=2->langchain==0.1.6) (3.7)\n",
      "Requirement already satisfied: urllib3<3,>=1.21.1 in c:\\users\\venka\\anaconda3\\envs\\openaidemo\\lib\\site-packages (from requests<3,>=2->langchain==0.1.6) (2.2.1)\n",
      "Requirement already satisfied: certifi>=2017.4.17 in c:\\users\\venka\\anaconda3\\envs\\openaidemo\\lib\\site-packages (from requests<3,>=2->langchain==0.1.6) (2024.6.2)\n",
      "Requirement already satisfied: greenlet!=0.4.17 in c:\\users\\venka\\anaconda3\\envs\\openaidemo\\lib\\site-packages (from SQLAlchemy<3,>=1.4->langchain==0.1.6) (3.0.3)\n",
      "Requirement already satisfied: sniffio>=1.1 in c:\\users\\venka\\anaconda3\\envs\\openaidemo\\lib\\site-packages (from anyio<5,>=3->langchain-core<0.2,>=0.1.22->langchain==0.1.6) (1.3.1)\n",
      "Requirement already satisfied: exceptiongroup>=1.0.2 in c:\\users\\venka\\anaconda3\\envs\\openaidemo\\lib\\site-packages (from anyio<5,>=3->langchain-core<0.2,>=0.1.22->langchain==0.1.6) (1.2.1)\n",
      "Requirement already satisfied: mypy-extensions>=0.3.0 in c:\\users\\venka\\anaconda3\\envs\\openaidemo\\lib\\site-packages (from typing-inspect<1,>=0.4.0->dataclasses-json<0.7,>=0.5.7->langchain==0.1.6) (1.0.0)\n",
      "Note: you may need to restart the kernel to use updated packages.\n"
     ]
    }
   ],
   "source": [
    "pip install langchain==0.1.6"
   ]
  },
  {
   "cell_type": "code",
   "execution_count": 10,
   "metadata": {},
   "outputs": [],
   "source": [
    "from langchain_huggingface import HuggingFaceEndpoint, HuggingFacePipeline\n",
    "from langchain import PromptTemplate, LLMChain\n"
   ]
  },
  {
   "cell_type": "code",
   "execution_count": 11,
   "metadata": {},
   "outputs": [],
   "source": [
    "prompt_template_name = PromptTemplate(\n",
    "    input_variables=['profuct'], \n",
    "    template=\"what would be a good name for the company that makes {product}\"\n",
    ")"
   ]
  },
  {
   "cell_type": "code",
   "execution_count": 12,
   "metadata": {},
   "outputs": [
    {
     "name": "stdout",
     "output_type": "stream",
     "text": [
      "Unexpected exception formatting exception. Falling back to standard exception\n"
     ]
    },
    {
     "name": "stderr",
     "output_type": "stream",
     "text": [
      "Traceback (most recent call last):\n",
      "  File \"c:\\Users\\venka\\Anaconda3\\envs\\openaidemo\\lib\\site-packages\\IPython\\core\\interactiveshell.py\", line 3508, in run_code\n",
      "    exec(code_obj, self.user_global_ns, self.user_ns)\n",
      "  File \"C:\\Users\\venka\\AppData\\Local\\Temp\\ipykernel_14472\\2060007601.py\", line 1, in <module>\n",
      "    llm = HuggingFacePipeline.from_model_id(model_id='google/flan-t5-large', task=\"text2text-generation\", model_kwargs={\"temperature\":1e-10\n",
      "  File \"c:\\Users\\venka\\Anaconda3\\envs\\openaidemo\\lib\\site-packages\\langchain_huggingface\\llms\\huggingface_pipeline.py\", line 87, in from_model_id\n",
      "    from transformers import (  # type: ignore[import]\n",
      "  File \"c:\\Users\\venka\\Anaconda3\\envs\\openaidemo\\lib\\site-packages\\transformers\\__init__.py\", line 135, in <module>\n",
      "    from .pipelines import (\n",
      "  File \"c:\\Users\\venka\\Anaconda3\\envs\\openaidemo\\lib\\site-packages\\transformers\\pipelines.py\", line 38, in <module>\n",
      "    from .tokenization_auto import AutoTokenizer\n",
      "  File \"c:\\Users\\venka\\Anaconda3\\envs\\openaidemo\\lib\\site-packages\\transformers\\tokenization_auto.py\", line 119, in <module>\n",
      "    from .tokenization_albert_fast import AlbertTokenizerFast\n",
      "  File \"c:\\Users\\venka\\Anaconda3\\envs\\openaidemo\\lib\\site-packages\\transformers\\tokenization_albert_fast.py\", line 23, in <module>\n",
      "    from .tokenization_utils_fast import PreTrainedTokenizerFast\n",
      "  File \"c:\\Users\\venka\\Anaconda3\\envs\\openaidemo\\lib\\site-packages\\transformers\\tokenization_utils_fast.py\", line 30, in <module>\n",
      "    from .convert_slow_tokenizer import convert_slow_tokenizer\n",
      "  File \"c:\\Users\\venka\\Anaconda3\\envs\\openaidemo\\lib\\site-packages\\transformers\\convert_slow_tokenizer.py\", line 28, in <module>\n",
      "    from transformers.utils import sentencepiece_model_pb2 as model\n",
      "  File \"c:\\Users\\venka\\Anaconda3\\envs\\openaidemo\\lib\\site-packages\\transformers\\utils\\sentencepiece_model_pb2.py\", line 21, in <module>\n",
      "    DESCRIPTOR = _descriptor.FileDescriptor(\n",
      "  File \"c:\\Users\\venka\\Anaconda3\\envs\\openaidemo\\lib\\site-packages\\google\\protobuf\\descriptor.py\", line 1225, in __new__\n",
      "TypeError: Couldn't build proto file into descriptor pool: duplicate file name sentencepiece_model.proto\n",
      "\n",
      "During handling of the above exception, another exception occurred:\n",
      "\n",
      "Traceback (most recent call last):\n",
      "  File \"c:\\Users\\venka\\Anaconda3\\envs\\openaidemo\\lib\\site-packages\\IPython\\core\\interactiveshell.py\", line 2105, in showtraceback\n",
      "    stb = self.InteractiveTB.structured_traceback(\n",
      "  File \"c:\\Users\\venka\\Anaconda3\\envs\\openaidemo\\lib\\site-packages\\IPython\\core\\ultratb.py\", line 1396, in structured_traceback\n",
      "    return FormattedTB.structured_traceback(\n",
      "  File \"c:\\Users\\venka\\Anaconda3\\envs\\openaidemo\\lib\\site-packages\\IPython\\core\\ultratb.py\", line 1287, in structured_traceback\n",
      "    return VerboseTB.structured_traceback(\n",
      "  File \"c:\\Users\\venka\\Anaconda3\\envs\\openaidemo\\lib\\site-packages\\IPython\\core\\ultratb.py\", line 1140, in structured_traceback\n",
      "    formatted_exception = self.format_exception_as_a_whole(etype, evalue, etb, number_of_lines_of_context,\n",
      "  File \"c:\\Users\\venka\\Anaconda3\\envs\\openaidemo\\lib\\site-packages\\IPython\\core\\ultratb.py\", line 1055, in format_exception_as_a_whole\n",
      "    frames.append(self.format_record(record))\n",
      "  File \"c:\\Users\\venka\\Anaconda3\\envs\\openaidemo\\lib\\site-packages\\IPython\\core\\ultratb.py\", line 955, in format_record\n",
      "    frame_info.lines, Colors, self.has_colors, lvals\n",
      "  File \"c:\\Users\\venka\\Anaconda3\\envs\\openaidemo\\lib\\site-packages\\IPython\\core\\ultratb.py\", line 778, in lines\n",
      "    return self._sd.lines\n",
      "  File \"c:\\Users\\venka\\Anaconda3\\envs\\openaidemo\\lib\\site-packages\\stack_data\\utils.py\", line 145, in cached_property_wrapper\n",
      "    value = obj.__dict__[self.func.__name__] = self.func(obj)\n",
      "  File \"c:\\Users\\venka\\Anaconda3\\envs\\openaidemo\\lib\\site-packages\\stack_data\\core.py\", line 734, in lines\n",
      "    pieces = self.included_pieces\n",
      "  File \"c:\\Users\\venka\\Anaconda3\\envs\\openaidemo\\lib\\site-packages\\stack_data\\utils.py\", line 145, in cached_property_wrapper\n",
      "    value = obj.__dict__[self.func.__name__] = self.func(obj)\n",
      "  File \"c:\\Users\\venka\\Anaconda3\\envs\\openaidemo\\lib\\site-packages\\stack_data\\core.py\", line 681, in included_pieces\n",
      "    pos = scope_pieces.index(self.executing_piece)\n",
      "  File \"c:\\Users\\venka\\Anaconda3\\envs\\openaidemo\\lib\\site-packages\\stack_data\\utils.py\", line 145, in cached_property_wrapper\n",
      "    value = obj.__dict__[self.func.__name__] = self.func(obj)\n",
      "  File \"c:\\Users\\venka\\Anaconda3\\envs\\openaidemo\\lib\\site-packages\\stack_data\\core.py\", line 660, in executing_piece\n",
      "    return only(\n",
      "  File \"c:\\Users\\venka\\Anaconda3\\envs\\openaidemo\\lib\\site-packages\\executing\\executing.py\", line 116, in only\n",
      "    raise NotOneValueFound('Expected one value, found 0')\n",
      "executing.executing.NotOneValueFound: Expected one value, found 0\n"
     ]
    }
   ],
   "source": [
    "llm = HuggingFacePipeline.from_model_id(model_id='google/flan-t5-large', task=\"text2text-generation\", model_kwargs={\"temperature\":1e-10\n",
    "                                                                                                #    ,\"return_full_text\":False\n",
    "                                                                                                   })\n",
    "# template = PromptTemplate(input_variables=[\"input\"], template=\"{input}\")\n",
    "chain = LLMChain(llm=llm, verbose=True, prompt=prompt_template_name)\n",
    "chain(\"Car\")"
   ]
  },
  {
   "cell_type": "code",
   "execution_count": 13,
   "metadata": {},
   "outputs": [
    {
     "ename": "NameError",
     "evalue": "name 'chain' is not defined",
     "output_type": "error",
     "traceback": [
      "\u001b[1;31m---------------------------------------------------------------------------\u001b[0m",
      "\u001b[1;31mNameError\u001b[0m                                 Traceback (most recent call last)",
      "Cell \u001b[1;32mIn[13], line 1\u001b[0m\n\u001b[1;32m----> 1\u001b[0m \u001b[43mchain\u001b[49m\u001b[38;5;241m.\u001b[39mrun(\u001b[38;5;124m\"\u001b[39m\u001b[38;5;124mwines\u001b[39m\u001b[38;5;124m\"\u001b[39m)\n",
      "\u001b[1;31mNameError\u001b[0m: name 'chain' is not defined"
     ]
    }
   ],
   "source": [
    "chain.run(\"wines\")"
   ]
  },
  {
   "cell_type": "markdown",
   "metadata": {},
   "source": [
    "## Creating Pipelines and using local models"
   ]
  },
  {
   "cell_type": "code",
   "execution_count": 47,
   "metadata": {},
   "outputs": [],
   "source": [
    "from langchain_community.llms import HuggingFacePipeline\n",
    "import torch\n",
    "from transformers import AutoTokenizer, AutoModelForCausalLM, pipeline, AutoModelForSeq2SeqLM"
   ]
  },
  {
   "cell_type": "code",
   "execution_count": 9,
   "metadata": {},
   "outputs": [
    {
     "name": "stdout",
     "output_type": "stream",
     "text": [
      "Unexpected exception formatting exception. Falling back to standard exception\n"
     ]
    },
    {
     "name": "stderr",
     "output_type": "stream",
     "text": [
      "Traceback (most recent call last):\n",
      "  File \"c:\\Users\\venka\\Anaconda3\\envs\\openaidemo\\lib\\site-packages\\IPython\\core\\interactiveshell.py\", line 3508, in run_code\n",
      "    exec(code_obj, self.user_global_ns, self.user_ns)\n",
      "  File \"C:\\Users\\venka\\AppData\\Local\\Temp\\ipykernel_14472\\1353246357.py\", line 1, in <module>\n",
      "    from transformers import GPT2Tokenizer\n",
      "  File \"c:\\Users\\venka\\Anaconda3\\envs\\openaidemo\\lib\\site-packages\\transformers\\__init__.py\", line 135, in <module>\n",
      "    from .pipelines import (\n",
      "  File \"c:\\Users\\venka\\Anaconda3\\envs\\openaidemo\\lib\\site-packages\\transformers\\pipelines.py\", line 38, in <module>\n",
      "    from .tokenization_auto import AutoTokenizer\n",
      "  File \"c:\\Users\\venka\\Anaconda3\\envs\\openaidemo\\lib\\site-packages\\transformers\\tokenization_auto.py\", line 119, in <module>\n",
      "    from .tokenization_albert_fast import AlbertTokenizerFast\n",
      "  File \"c:\\Users\\venka\\Anaconda3\\envs\\openaidemo\\lib\\site-packages\\transformers\\tokenization_albert_fast.py\", line 23, in <module>\n",
      "    from .tokenization_utils_fast import PreTrainedTokenizerFast\n",
      "  File \"c:\\Users\\venka\\Anaconda3\\envs\\openaidemo\\lib\\site-packages\\transformers\\tokenization_utils_fast.py\", line 30, in <module>\n",
      "    from .convert_slow_tokenizer import convert_slow_tokenizer\n",
      "  File \"c:\\Users\\venka\\Anaconda3\\envs\\openaidemo\\lib\\site-packages\\transformers\\convert_slow_tokenizer.py\", line 28, in <module>\n",
      "    from transformers.utils import sentencepiece_model_pb2 as model\n",
      "  File \"c:\\Users\\venka\\Anaconda3\\envs\\openaidemo\\lib\\site-packages\\transformers\\utils\\sentencepiece_model_pb2.py\", line 21, in <module>\n",
      "    DESCRIPTOR = _descriptor.FileDescriptor(\n",
      "  File \"c:\\Users\\venka\\Anaconda3\\envs\\openaidemo\\lib\\site-packages\\google\\protobuf\\descriptor.py\", line 1225, in __new__\n",
      "TypeError: Couldn't build proto file into descriptor pool: duplicate file name sentencepiece_model.proto\n",
      "\n",
      "During handling of the above exception, another exception occurred:\n",
      "\n",
      "Traceback (most recent call last):\n",
      "  File \"c:\\Users\\venka\\Anaconda3\\envs\\openaidemo\\lib\\site-packages\\IPython\\core\\interactiveshell.py\", line 2105, in showtraceback\n",
      "    stb = self.InteractiveTB.structured_traceback(\n",
      "  File \"c:\\Users\\venka\\Anaconda3\\envs\\openaidemo\\lib\\site-packages\\IPython\\core\\ultratb.py\", line 1396, in structured_traceback\n",
      "    return FormattedTB.structured_traceback(\n",
      "  File \"c:\\Users\\venka\\Anaconda3\\envs\\openaidemo\\lib\\site-packages\\IPython\\core\\ultratb.py\", line 1287, in structured_traceback\n",
      "    return VerboseTB.structured_traceback(\n",
      "  File \"c:\\Users\\venka\\Anaconda3\\envs\\openaidemo\\lib\\site-packages\\IPython\\core\\ultratb.py\", line 1140, in structured_traceback\n",
      "    formatted_exception = self.format_exception_as_a_whole(etype, evalue, etb, number_of_lines_of_context,\n",
      "  File \"c:\\Users\\venka\\Anaconda3\\envs\\openaidemo\\lib\\site-packages\\IPython\\core\\ultratb.py\", line 1055, in format_exception_as_a_whole\n",
      "    frames.append(self.format_record(record))\n",
      "  File \"c:\\Users\\venka\\Anaconda3\\envs\\openaidemo\\lib\\site-packages\\IPython\\core\\ultratb.py\", line 955, in format_record\n",
      "    frame_info.lines, Colors, self.has_colors, lvals\n",
      "  File \"c:\\Users\\venka\\Anaconda3\\envs\\openaidemo\\lib\\site-packages\\IPython\\core\\ultratb.py\", line 778, in lines\n",
      "    return self._sd.lines\n",
      "  File \"c:\\Users\\venka\\Anaconda3\\envs\\openaidemo\\lib\\site-packages\\stack_data\\utils.py\", line 145, in cached_property_wrapper\n",
      "    value = obj.__dict__[self.func.__name__] = self.func(obj)\n",
      "  File \"c:\\Users\\venka\\Anaconda3\\envs\\openaidemo\\lib\\site-packages\\stack_data\\core.py\", line 734, in lines\n",
      "    pieces = self.included_pieces\n",
      "  File \"c:\\Users\\venka\\Anaconda3\\envs\\openaidemo\\lib\\site-packages\\stack_data\\utils.py\", line 145, in cached_property_wrapper\n",
      "    value = obj.__dict__[self.func.__name__] = self.func(obj)\n",
      "  File \"c:\\Users\\venka\\Anaconda3\\envs\\openaidemo\\lib\\site-packages\\stack_data\\core.py\", line 681, in included_pieces\n",
      "    pos = scope_pieces.index(self.executing_piece)\n",
      "  File \"c:\\Users\\venka\\Anaconda3\\envs\\openaidemo\\lib\\site-packages\\stack_data\\utils.py\", line 145, in cached_property_wrapper\n",
      "    value = obj.__dict__[self.func.__name__] = self.func(obj)\n",
      "  File \"c:\\Users\\venka\\Anaconda3\\envs\\openaidemo\\lib\\site-packages\\stack_data\\core.py\", line 660, in executing_piece\n",
      "    return only(\n",
      "  File \"c:\\Users\\venka\\Anaconda3\\envs\\openaidemo\\lib\\site-packages\\executing\\executing.py\", line 116, in only\n",
      "    raise NotOneValueFound('Expected one value, found 0')\n",
      "executing.executing.NotOneValueFound: Expected one value, found 0\n"
     ]
    }
   ],
   "source": [
    "from transformers import GPT2Tokenizer\n"
   ]
  },
  {
   "cell_type": "code",
   "execution_count": 7,
   "metadata": {},
   "outputs": [
    {
     "name": "stdout",
     "output_type": "stream",
     "text": [
      "Requirement already satisfied: transformers in c:\\users\\venka\\anaconda3\\envs\\openaidemo\\lib\\site-packages (3.5.1)\n",
      "Requirement already satisfied: numpy in c:\\users\\venka\\anaconda3\\envs\\openaidemo\\lib\\site-packages (from transformers) (1.24.4)\n",
      "Requirement already satisfied: tokenizers==0.9.3 in c:\\users\\venka\\anaconda3\\envs\\openaidemo\\lib\\site-packages (from transformers) (0.9.3)\n",
      "Requirement already satisfied: packaging in c:\\users\\venka\\anaconda3\\envs\\openaidemo\\lib\\site-packages (from transformers) (23.2)\n",
      "Requirement already satisfied: filelock in c:\\users\\venka\\anaconda3\\envs\\openaidemo\\lib\\site-packages (from transformers) (3.15.1)\n",
      "Requirement already satisfied: requests in c:\\users\\venka\\anaconda3\\envs\\openaidemo\\lib\\site-packages (from transformers) (2.32.3)\n",
      "Requirement already satisfied: tqdm>=4.27 in c:\\users\\venka\\anaconda3\\envs\\openaidemo\\lib\\site-packages (from transformers) (4.66.4)\n",
      "Requirement already satisfied: regex!=2019.12.17 in c:\\users\\venka\\anaconda3\\envs\\openaidemo\\lib\\site-packages (from transformers) (2024.5.15)\n",
      "Requirement already satisfied: sentencepiece==0.1.91 in c:\\users\\venka\\anaconda3\\envs\\openaidemo\\lib\\site-packages (from transformers) (0.1.91)\n",
      "Requirement already satisfied: protobuf in c:\\users\\venka\\anaconda3\\envs\\openaidemo\\lib\\site-packages (from transformers) (3.20.0)\n",
      "Requirement already satisfied: sacremoses in c:\\users\\venka\\anaconda3\\envs\\openaidemo\\lib\\site-packages (from transformers) (0.1.1)\n",
      "Requirement already satisfied: colorama in c:\\users\\venka\\anaconda3\\envs\\openaidemo\\lib\\site-packages (from tqdm>=4.27->transformers) (0.4.6)\n",
      "Requirement already satisfied: charset-normalizer<4,>=2 in c:\\users\\venka\\anaconda3\\envs\\openaidemo\\lib\\site-packages (from requests->transformers) (3.3.2)\n",
      "Requirement already satisfied: idna<4,>=2.5 in c:\\users\\venka\\anaconda3\\envs\\openaidemo\\lib\\site-packages (from requests->transformers) (3.7)\n",
      "Requirement already satisfied: urllib3<3,>=1.21.1 in c:\\users\\venka\\anaconda3\\envs\\openaidemo\\lib\\site-packages (from requests->transformers) (2.2.1)\n",
      "Requirement already satisfied: certifi>=2017.4.17 in c:\\users\\venka\\anaconda3\\envs\\openaidemo\\lib\\site-packages (from requests->transformers) (2024.6.2)\n",
      "Requirement already satisfied: click in c:\\users\\venka\\anaconda3\\envs\\openaidemo\\lib\\site-packages (from sacremoses->transformers) (8.1.7)\n",
      "Requirement already satisfied: joblib in c:\\users\\venka\\anaconda3\\envs\\openaidemo\\lib\\site-packages (from sacremoses->transformers) (1.4.2)\n",
      "Note: you may need to restart the kernel to use updated packages.\n"
     ]
    }
   ],
   "source": [
    "pip install transformers"
   ]
  },
  {
   "cell_type": "code",
   "execution_count": 8,
   "metadata": {},
   "outputs": [
    {
     "name": "stdout",
     "output_type": "stream",
     "text": [
      "Unexpected exception formatting exception. Falling back to standard exception\n"
     ]
    },
    {
     "name": "stderr",
     "output_type": "stream",
     "text": [
      "Traceback (most recent call last):\n",
      "  File \"c:\\Users\\venka\\Anaconda3\\envs\\openaidemo\\lib\\site-packages\\IPython\\core\\interactiveshell.py\", line 3508, in run_code\n",
      "    exec(code_obj, self.user_global_ns, self.user_ns)\n",
      "  File \"C:\\Users\\venka\\AppData\\Local\\Temp\\ipykernel_14472\\737711285.py\", line 1, in <module>\n",
      "    import transformers\n",
      "  File \"c:\\Users\\venka\\Anaconda3\\envs\\openaidemo\\lib\\site-packages\\transformers\\__init__.py\", line 135, in <module>\n",
      "    from .pipelines import (\n",
      "  File \"c:\\Users\\venka\\Anaconda3\\envs\\openaidemo\\lib\\site-packages\\transformers\\pipelines.py\", line 38, in <module>\n",
      "    from .tokenization_auto import AutoTokenizer\n",
      "  File \"c:\\Users\\venka\\Anaconda3\\envs\\openaidemo\\lib\\site-packages\\transformers\\tokenization_auto.py\", line 119, in <module>\n",
      "    from .tokenization_albert_fast import AlbertTokenizerFast\n",
      "  File \"c:\\Users\\venka\\Anaconda3\\envs\\openaidemo\\lib\\site-packages\\transformers\\tokenization_albert_fast.py\", line 23, in <module>\n",
      "    from .tokenization_utils_fast import PreTrainedTokenizerFast\n",
      "  File \"c:\\Users\\venka\\Anaconda3\\envs\\openaidemo\\lib\\site-packages\\transformers\\tokenization_utils_fast.py\", line 30, in <module>\n",
      "    from .convert_slow_tokenizer import convert_slow_tokenizer\n",
      "  File \"c:\\Users\\venka\\Anaconda3\\envs\\openaidemo\\lib\\site-packages\\transformers\\convert_slow_tokenizer.py\", line 28, in <module>\n",
      "    from transformers.utils import sentencepiece_model_pb2 as model\n",
      "  File \"c:\\Users\\venka\\Anaconda3\\envs\\openaidemo\\lib\\site-packages\\transformers\\utils\\sentencepiece_model_pb2.py\", line 21, in <module>\n",
      "    DESCRIPTOR = _descriptor.FileDescriptor(\n",
      "  File \"c:\\Users\\venka\\Anaconda3\\envs\\openaidemo\\lib\\site-packages\\google\\protobuf\\descriptor.py\", line 1225, in __new__\n",
      "TypeError: Couldn't build proto file into descriptor pool: duplicate file name sentencepiece_model.proto\n",
      "\n",
      "During handling of the above exception, another exception occurred:\n",
      "\n",
      "Traceback (most recent call last):\n",
      "  File \"c:\\Users\\venka\\Anaconda3\\envs\\openaidemo\\lib\\site-packages\\IPython\\core\\interactiveshell.py\", line 2105, in showtraceback\n",
      "    stb = self.InteractiveTB.structured_traceback(\n",
      "  File \"c:\\Users\\venka\\Anaconda3\\envs\\openaidemo\\lib\\site-packages\\IPython\\core\\ultratb.py\", line 1396, in structured_traceback\n",
      "    return FormattedTB.structured_traceback(\n",
      "  File \"c:\\Users\\venka\\Anaconda3\\envs\\openaidemo\\lib\\site-packages\\IPython\\core\\ultratb.py\", line 1287, in structured_traceback\n",
      "    return VerboseTB.structured_traceback(\n",
      "  File \"c:\\Users\\venka\\Anaconda3\\envs\\openaidemo\\lib\\site-packages\\IPython\\core\\ultratb.py\", line 1140, in structured_traceback\n",
      "    formatted_exception = self.format_exception_as_a_whole(etype, evalue, etb, number_of_lines_of_context,\n",
      "  File \"c:\\Users\\venka\\Anaconda3\\envs\\openaidemo\\lib\\site-packages\\IPython\\core\\ultratb.py\", line 1055, in format_exception_as_a_whole\n",
      "    frames.append(self.format_record(record))\n",
      "  File \"c:\\Users\\venka\\Anaconda3\\envs\\openaidemo\\lib\\site-packages\\IPython\\core\\ultratb.py\", line 955, in format_record\n",
      "    frame_info.lines, Colors, self.has_colors, lvals\n",
      "  File \"c:\\Users\\venka\\Anaconda3\\envs\\openaidemo\\lib\\site-packages\\IPython\\core\\ultratb.py\", line 778, in lines\n",
      "    return self._sd.lines\n",
      "  File \"c:\\Users\\venka\\Anaconda3\\envs\\openaidemo\\lib\\site-packages\\stack_data\\utils.py\", line 145, in cached_property_wrapper\n",
      "    value = obj.__dict__[self.func.__name__] = self.func(obj)\n",
      "  File \"c:\\Users\\venka\\Anaconda3\\envs\\openaidemo\\lib\\site-packages\\stack_data\\core.py\", line 734, in lines\n",
      "    pieces = self.included_pieces\n",
      "  File \"c:\\Users\\venka\\Anaconda3\\envs\\openaidemo\\lib\\site-packages\\stack_data\\utils.py\", line 145, in cached_property_wrapper\n",
      "    value = obj.__dict__[self.func.__name__] = self.func(obj)\n",
      "  File \"c:\\Users\\venka\\Anaconda3\\envs\\openaidemo\\lib\\site-packages\\stack_data\\core.py\", line 681, in included_pieces\n",
      "    pos = scope_pieces.index(self.executing_piece)\n",
      "  File \"c:\\Users\\venka\\Anaconda3\\envs\\openaidemo\\lib\\site-packages\\stack_data\\utils.py\", line 145, in cached_property_wrapper\n",
      "    value = obj.__dict__[self.func.__name__] = self.func(obj)\n",
      "  File \"c:\\Users\\venka\\Anaconda3\\envs\\openaidemo\\lib\\site-packages\\stack_data\\core.py\", line 660, in executing_piece\n",
      "    return only(\n",
      "  File \"c:\\Users\\venka\\Anaconda3\\envs\\openaidemo\\lib\\site-packages\\executing\\executing.py\", line 116, in only\n",
      "    raise NotOneValueFound('Expected one value, found 0')\n",
      "executing.executing.NotOneValueFound: Expected one value, found 0\n"
     ]
    }
   ],
   "source": [
    "import transformers"
   ]
  },
  {
   "cell_type": "code",
   "execution_count": 3,
   "metadata": {},
   "outputs": [
    {
     "ename": "NameError",
     "evalue": "name 'transformers' is not defined",
     "output_type": "error",
     "traceback": [
      "\u001b[1;31m---------------------------------------------------------------------------\u001b[0m",
      "\u001b[1;31mNameError\u001b[0m                                 Traceback (most recent call last)",
      "Cell \u001b[1;32mIn[3], line 2\u001b[0m\n\u001b[0;32m      1\u001b[0m \u001b[38;5;66;03m# !pip install transformers==3.5.1 \u001b[39;00m\n\u001b[1;32m----> 2\u001b[0m \u001b[43mtransformers\u001b[49m\u001b[38;5;241m.\u001b[39m__version__\n",
      "\u001b[1;31mNameError\u001b[0m: name 'transformers' is not defined"
     ]
    }
   ],
   "source": [
    "# !pip install transformers==3.5.1 \n",
    "transformers.__version__"
   ]
  },
  {
   "cell_type": "code",
   "execution_count": 53,
   "metadata": {},
   "outputs": [
    {
     "ename": "RuntimeError",
     "evalue": "Failed to import transformers.models.gpt2.modeling_gpt2 because of the following error (look up to see its traceback):\nadd_code_sample_docstrings() got an unexpected keyword argument 'tokenizer_class'",
     "output_type": "error",
     "traceback": [
      "\u001b[1;31m---------------------------------------------------------------------------\u001b[0m",
      "\u001b[1;31mTypeError\u001b[0m                                 Traceback (most recent call last)",
      "File \u001b[1;32mc:\\Users\\venka\\Anaconda3\\envs\\openaidemo\\lib\\site-packages\\transformers\\utils\\import_utils.py:1535\u001b[0m, in \u001b[0;36m_get_module\u001b[1;34m(self, module_name)\u001b[0m\n",
      "File \u001b[1;32mc:\\Users\\venka\\Anaconda3\\envs\\openaidemo\\lib\\importlib\\__init__.py:127\u001b[0m, in \u001b[0;36mimport_module\u001b[1;34m(name, package)\u001b[0m\n\u001b[0;32m    126\u001b[0m         level \u001b[38;5;241m+\u001b[39m\u001b[38;5;241m=\u001b[39m \u001b[38;5;241m1\u001b[39m\n\u001b[1;32m--> 127\u001b[0m \u001b[38;5;28;01mreturn\u001b[39;00m \u001b[43m_bootstrap\u001b[49m\u001b[38;5;241;43m.\u001b[39;49m\u001b[43m_gcd_import\u001b[49m\u001b[43m(\u001b[49m\u001b[43mname\u001b[49m\u001b[43m[\u001b[49m\u001b[43mlevel\u001b[49m\u001b[43m:\u001b[49m\u001b[43m]\u001b[49m\u001b[43m,\u001b[49m\u001b[43m \u001b[49m\u001b[43mpackage\u001b[49m\u001b[43m,\u001b[49m\u001b[43m \u001b[49m\u001b[43mlevel\u001b[49m\u001b[43m)\u001b[49m\n",
      "File \u001b[1;32m<frozen importlib._bootstrap>:1014\u001b[0m, in \u001b[0;36m_gcd_import\u001b[1;34m(name, package, level)\u001b[0m\n",
      "File \u001b[1;32m<frozen importlib._bootstrap>:991\u001b[0m, in \u001b[0;36m_find_and_load\u001b[1;34m(name, import_)\u001b[0m\n",
      "File \u001b[1;32m<frozen importlib._bootstrap>:975\u001b[0m, in \u001b[0;36m_find_and_load_unlocked\u001b[1;34m(name, import_)\u001b[0m\n",
      "File \u001b[1;32m<frozen importlib._bootstrap>:671\u001b[0m, in \u001b[0;36m_load_unlocked\u001b[1;34m(spec)\u001b[0m\n",
      "File \u001b[1;32m<frozen importlib._bootstrap_external>:843\u001b[0m, in \u001b[0;36mexec_module\u001b[1;34m(self, module)\u001b[0m\n",
      "File \u001b[1;32m<frozen importlib._bootstrap>:219\u001b[0m, in \u001b[0;36m_call_with_frames_removed\u001b[1;34m(f, *args, **kwds)\u001b[0m\n",
      "File \u001b[1;32mc:\\Users\\venka\\Anaconda3\\envs\\openaidemo\\lib\\site-packages\\transformers\\models\\gpt2\\modeling_gpt2.py:533\u001b[0m\n\u001b[0;32m    512\u001b[0m DEPARALLELIZE_DOCSTRING \u001b[38;5;241m=\u001b[39m \u001b[38;5;124mr\u001b[39m\u001b[38;5;124m\"\"\"\u001b[39m\n\u001b[0;32m    513\u001b[0m \u001b[38;5;124m    Moves the model to cpu from a model parallel state.\u001b[39m\n\u001b[0;32m    514\u001b[0m \n\u001b[1;32m   (...)\u001b[0m\n\u001b[0;32m    525\u001b[0m \u001b[38;5;124m        model.deparallelize() # Put the model back on cpu and cleans memory by calling torch.cuda.empty_cache()\u001b[39m\n\u001b[0;32m    526\u001b[0m \u001b[38;5;124m\"\"\"\u001b[39m\n\u001b[0;32m    529\u001b[0m \u001b[38;5;129m@add_start_docstrings\u001b[39m(\n\u001b[0;32m    530\u001b[0m     \u001b[38;5;124m\"\u001b[39m\u001b[38;5;124mThe bare GPT2 Model transformer outputting raw hidden-states without any specific head on top.\u001b[39m\u001b[38;5;124m\"\u001b[39m,\n\u001b[0;32m    531\u001b[0m     GPT2_START_DOCSTRING,\n\u001b[0;32m    532\u001b[0m )\n\u001b[1;32m--> 533\u001b[0m \u001b[38;5;28;01mclass\u001b[39;00m \u001b[38;5;21;01mGPT2Model\u001b[39;00m(GPT2PreTrainedModel):\n\u001b[0;32m    534\u001b[0m     \u001b[38;5;28;01mdef\u001b[39;00m \u001b[38;5;21m__init__\u001b[39m(\u001b[38;5;28mself\u001b[39m, config):\n",
      "File \u001b[1;32mc:\\Users\\venka\\Anaconda3\\envs\\openaidemo\\lib\\site-packages\\transformers\\models\\gpt2\\modeling_gpt2.py:596\u001b[0m, in \u001b[0;36mGPT2Model\u001b[1;34m()\u001b[0m\n\u001b[0;32m    593\u001b[0m         \u001b[38;5;28mself\u001b[39m\u001b[38;5;241m.\u001b[39mh[layer]\u001b[38;5;241m.\u001b[39mattn\u001b[38;5;241m.\u001b[39mprune_heads(heads)\n\u001b[0;32m    595\u001b[0m \u001b[38;5;129m@add_start_docstrings_to_model_forward\u001b[39m(GPT2_INPUTS_DOCSTRING)\n\u001b[1;32m--> 596\u001b[0m \u001b[38;5;129m@add_code_sample_docstrings\u001b[39m\u001b[43m(\u001b[49m\n\u001b[0;32m    597\u001b[0m \u001b[43m    \u001b[49m\u001b[43mtokenizer_class\u001b[49m\u001b[38;5;241;43m=\u001b[39;49m\u001b[43m_TOKENIZER_FOR_DOC\u001b[49m\u001b[43m,\u001b[49m\n\u001b[0;32m    598\u001b[0m \u001b[43m    \u001b[49m\u001b[43mcheckpoint\u001b[49m\u001b[38;5;241;43m=\u001b[39;49m\u001b[38;5;124;43m\"\u001b[39;49m\u001b[38;5;124;43mgpt2\u001b[39;49m\u001b[38;5;124;43m\"\u001b[39;49m\u001b[43m,\u001b[49m\n\u001b[0;32m    599\u001b[0m \u001b[43m    \u001b[49m\u001b[43moutput_type\u001b[49m\u001b[38;5;241;43m=\u001b[39;49m\u001b[43mBaseModelOutputWithPastAndCrossAttentions\u001b[49m\u001b[43m,\u001b[49m\n\u001b[0;32m    600\u001b[0m \u001b[43m    \u001b[49m\u001b[43mconfig_class\u001b[49m\u001b[38;5;241;43m=\u001b[39;49m\u001b[43m_CONFIG_FOR_DOC\u001b[49m\u001b[43m,\u001b[49m\n\u001b[0;32m    601\u001b[0m \u001b[43m\u001b[49m\u001b[43m)\u001b[49m\n\u001b[0;32m    602\u001b[0m \u001b[38;5;28;01mdef\u001b[39;00m \u001b[38;5;21mforward\u001b[39m(\n\u001b[0;32m    603\u001b[0m     \u001b[38;5;28mself\u001b[39m,\n\u001b[0;32m    604\u001b[0m     input_ids\u001b[38;5;241m=\u001b[39m\u001b[38;5;28;01mNone\u001b[39;00m,\n\u001b[0;32m    605\u001b[0m     past_key_values\u001b[38;5;241m=\u001b[39m\u001b[38;5;28;01mNone\u001b[39;00m,\n\u001b[0;32m    606\u001b[0m     attention_mask\u001b[38;5;241m=\u001b[39m\u001b[38;5;28;01mNone\u001b[39;00m,\n\u001b[0;32m    607\u001b[0m     token_type_ids\u001b[38;5;241m=\u001b[39m\u001b[38;5;28;01mNone\u001b[39;00m,\n\u001b[0;32m    608\u001b[0m     position_ids\u001b[38;5;241m=\u001b[39m\u001b[38;5;28;01mNone\u001b[39;00m,\n\u001b[0;32m    609\u001b[0m     head_mask\u001b[38;5;241m=\u001b[39m\u001b[38;5;28;01mNone\u001b[39;00m,\n\u001b[0;32m    610\u001b[0m     inputs_embeds\u001b[38;5;241m=\u001b[39m\u001b[38;5;28;01mNone\u001b[39;00m,\n\u001b[0;32m    611\u001b[0m     encoder_hidden_states\u001b[38;5;241m=\u001b[39m\u001b[38;5;28;01mNone\u001b[39;00m,\n\u001b[0;32m    612\u001b[0m     encoder_attention_mask\u001b[38;5;241m=\u001b[39m\u001b[38;5;28;01mNone\u001b[39;00m,\n\u001b[0;32m    613\u001b[0m     use_cache\u001b[38;5;241m=\u001b[39m\u001b[38;5;28;01mNone\u001b[39;00m,\n\u001b[0;32m    614\u001b[0m     output_attentions\u001b[38;5;241m=\u001b[39m\u001b[38;5;28;01mNone\u001b[39;00m,\n\u001b[0;32m    615\u001b[0m     output_hidden_states\u001b[38;5;241m=\u001b[39m\u001b[38;5;28;01mNone\u001b[39;00m,\n\u001b[0;32m    616\u001b[0m     return_dict\u001b[38;5;241m=\u001b[39m\u001b[38;5;28;01mNone\u001b[39;00m,\n\u001b[0;32m    617\u001b[0m ):\n\u001b[0;32m    618\u001b[0m     output_attentions \u001b[38;5;241m=\u001b[39m output_attentions \u001b[38;5;28;01mif\u001b[39;00m output_attentions \u001b[38;5;129;01mis\u001b[39;00m \u001b[38;5;129;01mnot\u001b[39;00m \u001b[38;5;28;01mNone\u001b[39;00m \u001b[38;5;28;01melse\u001b[39;00m \u001b[38;5;28mself\u001b[39m\u001b[38;5;241m.\u001b[39mconfig\u001b[38;5;241m.\u001b[39moutput_attentions\n",
      "\u001b[1;31mTypeError\u001b[0m: add_code_sample_docstrings() got an unexpected keyword argument 'tokenizer_class'",
      "\nThe above exception was the direct cause of the following exception:\n",
      "\u001b[1;31mRuntimeError\u001b[0m                              Traceback (most recent call last)",
      "Cell \u001b[1;32mIn[53], line 1\u001b[0m\n\u001b[1;32m----> 1\u001b[0m \u001b[38;5;28;01mfrom\u001b[39;00m \u001b[38;5;21;01mtransformers\u001b[39;00m \u001b[38;5;28;01mimport\u001b[39;00m GPT2Model\n",
      "File \u001b[1;32m<frozen importlib._bootstrap>:1039\u001b[0m, in \u001b[0;36m_handle_fromlist\u001b[1;34m(module, fromlist, import_, recursive)\u001b[0m\n",
      "File \u001b[1;32mc:\\Users\\venka\\Anaconda3\\envs\\openaidemo\\lib\\site-packages\\transformers\\utils\\import_utils.py:1526\u001b[0m, in \u001b[0;36m__getattr__\u001b[1;34m(self, name)\u001b[0m\n",
      "File \u001b[1;32mc:\\Users\\venka\\Anaconda3\\envs\\openaidemo\\lib\\site-packages\\transformers\\utils\\import_utils.py:1525\u001b[0m, in \u001b[0;36m__getattr__\u001b[1;34m(self, name)\u001b[0m\n",
      "File \u001b[1;32mc:\\Users\\venka\\Anaconda3\\envs\\openaidemo\\lib\\site-packages\\transformers\\utils\\import_utils.py:1537\u001b[0m, in \u001b[0;36m_get_module\u001b[1;34m(self, module_name)\u001b[0m\n",
      "\u001b[1;31mRuntimeError\u001b[0m: Failed to import transformers.models.gpt2.modeling_gpt2 because of the following error (look up to see its traceback):\nadd_code_sample_docstrings() got an unexpected keyword argument 'tokenizer_class'"
     ]
    }
   ],
   "source": [
    "from transformers import GPT2Model"
   ]
  },
  {
   "cell_type": "code",
   "execution_count": 43,
   "metadata": {},
   "outputs": [],
   "source": [
    "# model_id = \"google/flan-t5-large\""
   ]
  },
  {
   "cell_type": "code",
   "execution_count": 44,
   "metadata": {},
   "outputs": [],
   "source": [
    "model_id = \"openai-community/gpt2\""
   ]
  },
  {
   "cell_type": "code",
   "execution_count": 45,
   "metadata": {},
   "outputs": [
    {
     "ename": "NameError",
     "evalue": "name 'GPT2Model' is not defined",
     "output_type": "error",
     "traceback": [
      "\u001b[1;31m---------------------------------------------------------------------------\u001b[0m",
      "\u001b[1;31mNameError\u001b[0m                                 Traceback (most recent call last)",
      "Cell \u001b[1;32mIn[45], line 1\u001b[0m\n\u001b[1;32m----> 1\u001b[0m model \u001b[38;5;241m=\u001b[39m \u001b[43mGPT2Model\u001b[49m\u001b[38;5;241m.\u001b[39mfrom_pretrained(model_id)\n",
      "\u001b[1;31mNameError\u001b[0m: name 'GPT2Model' is not defined"
     ]
    }
   ],
   "source": [
    "model = GPT2Model.from_pretrained(model_id)"
   ]
  },
  {
   "cell_type": "code",
   "execution_count": 38,
   "metadata": {},
   "outputs": [],
   "source": [
    "tockenizer = AutoTokenizer.from_pretrained(model_id)"
   ]
  },
  {
   "cell_type": "code",
   "execution_count": 39,
   "metadata": {},
   "outputs": [
    {
     "ename": "NameError",
     "evalue": "name 'model' is not defined",
     "output_type": "error",
     "traceback": [
      "\u001b[1;31m---------------------------------------------------------------------------\u001b[0m",
      "\u001b[1;31mNameError\u001b[0m                                 Traceback (most recent call last)",
      "Cell \u001b[1;32mIn[39], line 1\u001b[0m\n\u001b[1;32m----> 1\u001b[0m pipeline \u001b[38;5;241m=\u001b[39m pipeline(\u001b[38;5;124m\"\u001b[39m\u001b[38;5;124mtext2text-generation\u001b[39m\u001b[38;5;124m\"\u001b[39m, model\u001b[38;5;241m=\u001b[39m\u001b[43mmodel\u001b[49m, tockenizer\u001b[38;5;241m=\u001b[39mtockenizer, max_length\u001b[38;5;241m=\u001b[39m \u001b[38;5;241m128\u001b[39m)\n",
      "\u001b[1;31mNameError\u001b[0m: name 'model' is not defined"
     ]
    }
   ],
   "source": [
    "pipeline = pipeline(\"text2text-generation\", model=model, tockenizer=tockenizer, max_length= 128)"
   ]
  },
  {
   "cell_type": "code",
   "execution_count": null,
   "metadata": {},
   "outputs": [],
   "source": []
  }
 ],
 "metadata": {
  "kernelspec": {
   "display_name": "openaidemo",
   "language": "python",
   "name": "python3"
  },
  "language_info": {
   "codemirror_mode": {
    "name": "ipython",
    "version": 3
   },
   "file_extension": ".py",
   "mimetype": "text/x-python",
   "name": "python",
   "nbconvert_exporter": "python",
   "pygments_lexer": "ipython3",
   "version": "3.8.19"
  }
 },
 "nbformat": 4,
 "nbformat_minor": 2
}
